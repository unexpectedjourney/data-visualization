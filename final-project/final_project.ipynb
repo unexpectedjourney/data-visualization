{
  "nbformat": 4,
  "nbformat_minor": 0,
  "metadata": {
    "colab": {
      "name": "dataviz_final_project",
      "provenance": [],
      "collapsed_sections": []
    },
    "kernelspec": {
      "display_name": "Python 3",
      "name": "python3"
    }
  },
  "cells": [
    {
      "cell_type": "code",
      "metadata": {
        "colab": {
          "base_uri": "https://localhost:8080/"
        },
        "id": "4RMSFNso625y",
        "outputId": "f95f7c00-1757-4ea9-81ab-0bf3d31cd526"
      },
      "source": [
        "!pip install --upgrade plotly"
      ],
      "execution_count": 1,
      "outputs": [
        {
          "output_type": "stream",
          "text": [
            "Requirement already up-to-date: plotly in /usr/local/lib/python3.6/dist-packages (4.14.3)\n",
            "Requirement already satisfied, skipping upgrade: six in /usr/local/lib/python3.6/dist-packages (from plotly) (1.15.0)\n",
            "Requirement already satisfied, skipping upgrade: retrying>=1.3.3 in /usr/local/lib/python3.6/dist-packages (from plotly) (1.3.3)\n"
          ],
          "name": "stdout"
        }
      ]
    },
    {
      "cell_type": "code",
      "metadata": {
        "id": "DJcVVWMezHXO"
      },
      "source": [
        "import numpy as np\n",
        "import pandas as pd\n",
        "import plotly.express as px\n",
        "import plotly.graph_objects as go"
      ],
      "execution_count": 2,
      "outputs": []
    },
    {
      "cell_type": "markdown",
      "metadata": {
        "id": "PnZj1XPH3Xgf"
      },
      "source": [
        "## Data Preprocessing"
      ]
    },
    {
      "cell_type": "code",
      "metadata": {
        "id": "cL6RQcNizS2O"
      },
      "source": [
        "df = pd.read_csv(\"https://gist.githubusercontent.com/unexpectedjourney/5034d17d85a1d0f46ac254051b5e025a/raw/494f63dd46767c12857df7919eec6c9ab6542797/space_corrected.csv\")"
      ],
      "execution_count": 3,
      "outputs": []
    },
    {
      "cell_type": "code",
      "metadata": {
        "id": "enmc2KEh2QQs"
      },
      "source": [
        "df.columns = ['company', 'location', 'datum', 'detail', 'status_rocket',\n",
        "       'cost', 'status_mission']"
      ],
      "execution_count": 4,
      "outputs": []
    },
    {
      "cell_type": "code",
      "metadata": {
        "colab": {
          "base_uri": "https://localhost:8080/",
          "height": 204
        },
        "id": "3bGm6xAC3dui",
        "outputId": "cdf1ff82-e436-44aa-e929-02d75b8e23d7"
      },
      "source": [
        "df.head()"
      ],
      "execution_count": 5,
      "outputs": [
        {
          "output_type": "execute_result",
          "data": {
            "text/html": [
              "<div>\n",
              "<style scoped>\n",
              "    .dataframe tbody tr th:only-of-type {\n",
              "        vertical-align: middle;\n",
              "    }\n",
              "\n",
              "    .dataframe tbody tr th {\n",
              "        vertical-align: top;\n",
              "    }\n",
              "\n",
              "    .dataframe thead th {\n",
              "        text-align: right;\n",
              "    }\n",
              "</style>\n",
              "<table border=\"1\" class=\"dataframe\">\n",
              "  <thead>\n",
              "    <tr style=\"text-align: right;\">\n",
              "      <th></th>\n",
              "      <th>company</th>\n",
              "      <th>location</th>\n",
              "      <th>datum</th>\n",
              "      <th>detail</th>\n",
              "      <th>status_rocket</th>\n",
              "      <th>cost</th>\n",
              "      <th>status_mission</th>\n",
              "    </tr>\n",
              "  </thead>\n",
              "  <tbody>\n",
              "    <tr>\n",
              "      <th>0</th>\n",
              "      <td>SpaceX</td>\n",
              "      <td>LC-39A, Kennedy Space Center, Florida, USA</td>\n",
              "      <td>Fri Aug 07, 2020 05:12 UTC</td>\n",
              "      <td>Falcon 9 Block 5 | Starlink V1 L9 &amp; BlackSky</td>\n",
              "      <td>StatusActive</td>\n",
              "      <td>50.0</td>\n",
              "      <td>Success</td>\n",
              "    </tr>\n",
              "    <tr>\n",
              "      <th>1</th>\n",
              "      <td>CASC</td>\n",
              "      <td>Site 9401 (SLS-2), Jiuquan Satellite Launch Ce...</td>\n",
              "      <td>Thu Aug 06, 2020 04:01 UTC</td>\n",
              "      <td>Long March 2D | Gaofen-9 04 &amp; Q-SAT</td>\n",
              "      <td>StatusActive</td>\n",
              "      <td>29.75</td>\n",
              "      <td>Success</td>\n",
              "    </tr>\n",
              "    <tr>\n",
              "      <th>2</th>\n",
              "      <td>SpaceX</td>\n",
              "      <td>Pad A, Boca Chica, Texas, USA</td>\n",
              "      <td>Tue Aug 04, 2020 23:57 UTC</td>\n",
              "      <td>Starship Prototype | 150 Meter Hop</td>\n",
              "      <td>StatusActive</td>\n",
              "      <td>NaN</td>\n",
              "      <td>Success</td>\n",
              "    </tr>\n",
              "    <tr>\n",
              "      <th>3</th>\n",
              "      <td>Roscosmos</td>\n",
              "      <td>Site 200/39, Baikonur Cosmodrome, Kazakhstan</td>\n",
              "      <td>Thu Jul 30, 2020 21:25 UTC</td>\n",
              "      <td>Proton-M/Briz-M | Ekspress-80 &amp; Ekspress-103</td>\n",
              "      <td>StatusActive</td>\n",
              "      <td>65.0</td>\n",
              "      <td>Success</td>\n",
              "    </tr>\n",
              "    <tr>\n",
              "      <th>4</th>\n",
              "      <td>ULA</td>\n",
              "      <td>SLC-41, Cape Canaveral AFS, Florida, USA</td>\n",
              "      <td>Thu Jul 30, 2020 11:50 UTC</td>\n",
              "      <td>Atlas V 541 | Perseverance</td>\n",
              "      <td>StatusActive</td>\n",
              "      <td>145.0</td>\n",
              "      <td>Success</td>\n",
              "    </tr>\n",
              "  </tbody>\n",
              "</table>\n",
              "</div>"
            ],
            "text/plain": [
              "     company  ... status_mission\n",
              "0     SpaceX  ...        Success\n",
              "1       CASC  ...        Success\n",
              "2     SpaceX  ...        Success\n",
              "3  Roscosmos  ...        Success\n",
              "4        ULA  ...        Success\n",
              "\n",
              "[5 rows x 7 columns]"
            ]
          },
          "metadata": {
            "tags": []
          },
          "execution_count": 5
        }
      ]
    },
    {
      "cell_type": "code",
      "metadata": {
        "id": "sAnqXXaHkSWg"
      },
      "source": [
        "def clear_cost(value):\n",
        "    if isinstance(value, str):\n",
        "        return value.replace(\" \", \"\").replace(\",\", \"\")\n",
        "    return value"
      ],
      "execution_count": 6,
      "outputs": []
    },
    {
      "cell_type": "code",
      "metadata": {
        "id": "ypuT1qxJlE5I"
      },
      "source": [
        "df.cost = df.cost.apply(clear_cost)"
      ],
      "execution_count": 7,
      "outputs": []
    },
    {
      "cell_type": "code",
      "metadata": {
        "id": "K4g_RU_O30zr"
      },
      "source": [
        "def get_country(value):\n",
        "    return value.split(\",\")[-1].strip()\n",
        "\n",
        "countries = {\n",
        "    \"Barents Sea\": \"Russia\",\n",
        "    \"Gran Canaria\": \"USA\",\n",
        "    \"New Mexico\" : \"USA\",\n",
        "    \"Pacific Missile Range Facility\": \"USA\",\n",
        "    \"Shahrud Missile Test Site\": \"Iran\",\n",
        "    \"Yellow Sea\": \"China\",\n",
        "}"
      ],
      "execution_count": 8,
      "outputs": []
    },
    {
      "cell_type": "code",
      "metadata": {
        "id": "xy_APEfo35nM"
      },
      "source": [
        "df[\"country\"] = df.location.apply(get_country)\n",
        "df.country = df.country.replace(countries)"
      ],
      "execution_count": 9,
      "outputs": []
    },
    {
      "cell_type": "code",
      "metadata": {
        "id": "29Jo_zJw7b9c"
      },
      "source": [
        "df[\"datum\"] = pd.to_datetime(df.datum)\n",
        "df[\"year\"] = df.datum.apply(lambda x: x.year)\n",
        "df[\"month\"] = df.datum.apply(lambda x: x.month)\n",
        "df[\"day\"] = df.datum.apply(lambda x: x.day)"
      ],
      "execution_count": 10,
      "outputs": []
    },
    {
      "cell_type": "markdown",
      "metadata": {
        "id": "ncW7H0EBDqaI"
      },
      "source": [
        "### Rocket cost by years *"
      ]
    },
    {
      "cell_type": "code",
      "metadata": {
        "id": "6RU6at8KX6ol"
      },
      "source": [
        "rocket_df = df[[\"year\", \"cost\", \"company\"]].copy()\n",
        "rocket_df[\"cost\"] = rocket_df.cost.astype(np.float32)\n",
        "rocket_df = rocket_df.dropna().groupby([\"year\"]).agg({\"cost\": \"sum\", \"company\": \"count\"}).reset_index()\n",
        "rocket_df.cost /= 1000"
      ],
      "execution_count": 11,
      "outputs": []
    },
    {
      "cell_type": "code",
      "metadata": {
        "colab": {
          "base_uri": "https://localhost:8080/",
          "height": 542
        },
        "id": "fa8ij5kciLbi",
        "outputId": "5512f42b-d2fb-4fc4-faea-dfdffe71d908"
      },
      "source": [
        "fig = px.area(rocket_df, x=\"year\", y=\"cost\")\n",
        "fig.add_annotation(\n",
        "    x=1969, y=4.873,\n",
        "    text=\"\\\"Apollo\\\" program\",\n",
        "    showarrow=True,\n",
        "    arrowhead=1\n",
        ")\n",
        "fig.add_annotation(\n",
        "    x=1988, y=5.9658,\n",
        "    text=\"\\\"Buran\\\" orbital flight\",\n",
        "    showarrow=True,\n",
        "    arrowhead=1\n",
        ")\n",
        "fig.add_annotation(\n",
        "    x=2009, y=5.5889,\n",
        "    text=\"Six NASA space missions\",\n",
        "    showarrow=True,\n",
        "    arrowhead=1\n",
        ")\n",
        "\n",
        "fig.update_layout(\n",
        "    width=900, \n",
        "    title=\"Rocket launches cost(in billions) per years\",\n",
        "    yaxis_ticksuffix='B',\n",
        "    xaxis = dict(\n",
        "        tickmode='linear',\n",
        "        tick0=1960,\n",
        "        dtick=5\n",
        "    )\n",
        ")\n",
        "fig.show()"
      ],
      "execution_count": 12,
      "outputs": [
        {
          "output_type": "display_data",
          "data": {
            "text/html": [
              "<html>\n",
              "<head><meta charset=\"utf-8\" /></head>\n",
              "<body>\n",
              "    <div>            <script src=\"https://cdnjs.cloudflare.com/ajax/libs/mathjax/2.7.5/MathJax.js?config=TeX-AMS-MML_SVG\"></script><script type=\"text/javascript\">if (window.MathJax) {MathJax.Hub.Config({SVG: {font: \"STIX-Web\"}});}</script>                <script type=\"text/javascript\">window.PlotlyConfig = {MathJaxConfig: 'local'};</script>\n",
              "        <script src=\"https://cdn.plot.ly/plotly-latest.min.js\"></script>                <div id=\"2c98afe5-8e6a-45ec-9251-fcef96697d55\" class=\"plotly-graph-div\" style=\"height:525px; width:900px;\"></div>            <script type=\"text/javascript\">                                    window.PLOTLYENV=window.PLOTLYENV || {};                                    if (document.getElementById(\"2c98afe5-8e6a-45ec-9251-fcef96697d55\")) {                    Plotly.newPlot(                        \"2c98afe5-8e6a-45ec-9251-fcef96697d55\",                        [{\"hovertemplate\": \"year=%{x}<br>cost=%{y}<extra></extra>\", \"legendgroup\": \"\", \"line\": {\"color\": \"#636efa\"}, \"mode\": \"lines\", \"name\": \"\", \"orientation\": \"v\", \"showlegend\": false, \"stackgroup\": \"1\", \"type\": \"scatter\", \"x\": [1964, 1965, 1966, 1967, 1968, 1969, 1970, 1971, 1972, 1973, 1981, 1982, 1983, 1984, 1985, 1986, 1987, 1988, 1989, 1990, 1991, 1992, 1993, 1994, 1995, 1996, 1997, 1998, 1999, 2000, 2001, 2002, 2003, 2004, 2005, 2006, 2007, 2008, 2009, 2010, 2011, 2012, 2013, 2014, 2015, 2016, 2017, 2018, 2019, 2020], \"xaxis\": \"x\", \"y\": [0.126460000872612, 0.126460000872612, 0.1770000010728836, 1.5729999542236328, 2.7920000553131104, 4.875999927520752, 1.159999966621399, 2.319999933242798, 2.319999933242798, 1.159999966621399, 0.8999999761581421, 1.3808000087738037, 1.8308000564575195, 2.2808001041412354, 4.0808000564575195, 0.9307999610900879, 5.061600208282471, 5.965799808502197, 2.2850000858306885, 3.180600166320801, 2.740000009536743, 3.8321499824523926, 3.3208000659942627, 3.544149875640869, 3.25, 3.404750108718872, 3.991300106048584, 2.7381999492645264, 1.7991600036621094, 2.769899845123291, 2.9070000648498535, 3.1549599170684814, 1.6102299690246582, 1.576509952545166, 1.436900019645691, 3.7423601150512695, 3.645159959793091, 3.6329500675201416, 5.588900089263916, 4.303600311279297, 4.251299858093262, 3.057300090789795, 2.9881999492645264, 4.2046003341674805, 3.5703999996185303, 5.085269927978516, 4.586410045623779, 5.697979927062988, 4.3515095710754395, 2.945810079574585], \"yaxis\": \"y\"}],                        {\"annotations\": [{\"arrowhead\": 1, \"showarrow\": true, \"text\": \"\\\"Apollo\\\" program\", \"x\": 1969, \"y\": 4.873}, {\"arrowhead\": 1, \"showarrow\": true, \"text\": \"\\\"Buran\\\" orbital flight\", \"x\": 1988, \"y\": 5.9658}, {\"arrowhead\": 1, \"showarrow\": true, \"text\": \"Six NASA space missions\", \"x\": 2009, \"y\": 5.5889}], \"legend\": {\"tracegroupgap\": 0}, \"margin\": {\"t\": 60}, \"template\": {\"data\": {\"bar\": [{\"error_x\": {\"color\": \"#2a3f5f\"}, \"error_y\": {\"color\": \"#2a3f5f\"}, \"marker\": {\"line\": {\"color\": \"#E5ECF6\", \"width\": 0.5}}, \"type\": \"bar\"}], \"barpolar\": [{\"marker\": {\"line\": {\"color\": \"#E5ECF6\", \"width\": 0.5}}, \"type\": \"barpolar\"}], \"carpet\": [{\"aaxis\": {\"endlinecolor\": \"#2a3f5f\", \"gridcolor\": \"white\", \"linecolor\": \"white\", \"minorgridcolor\": \"white\", \"startlinecolor\": \"#2a3f5f\"}, \"baxis\": {\"endlinecolor\": \"#2a3f5f\", \"gridcolor\": \"white\", \"linecolor\": \"white\", \"minorgridcolor\": \"white\", \"startlinecolor\": \"#2a3f5f\"}, \"type\": \"carpet\"}], \"choropleth\": [{\"colorbar\": {\"outlinewidth\": 0, \"ticks\": \"\"}, \"type\": \"choropleth\"}], \"contour\": [{\"colorbar\": {\"outlinewidth\": 0, \"ticks\": \"\"}, \"colorscale\": [[0.0, \"#0d0887\"], [0.1111111111111111, \"#46039f\"], [0.2222222222222222, \"#7201a8\"], [0.3333333333333333, \"#9c179e\"], [0.4444444444444444, \"#bd3786\"], [0.5555555555555556, \"#d8576b\"], [0.6666666666666666, \"#ed7953\"], [0.7777777777777778, \"#fb9f3a\"], [0.8888888888888888, \"#fdca26\"], [1.0, \"#f0f921\"]], \"type\": \"contour\"}], \"contourcarpet\": [{\"colorbar\": {\"outlinewidth\": 0, \"ticks\": \"\"}, \"type\": \"contourcarpet\"}], \"heatmap\": [{\"colorbar\": {\"outlinewidth\": 0, \"ticks\": \"\"}, \"colorscale\": [[0.0, \"#0d0887\"], [0.1111111111111111, \"#46039f\"], [0.2222222222222222, \"#7201a8\"], [0.3333333333333333, \"#9c179e\"], [0.4444444444444444, \"#bd3786\"], [0.5555555555555556, \"#d8576b\"], [0.6666666666666666, \"#ed7953\"], [0.7777777777777778, \"#fb9f3a\"], [0.8888888888888888, \"#fdca26\"], [1.0, \"#f0f921\"]], \"type\": \"heatmap\"}], \"heatmapgl\": [{\"colorbar\": {\"outlinewidth\": 0, \"ticks\": \"\"}, \"colorscale\": [[0.0, \"#0d0887\"], [0.1111111111111111, \"#46039f\"], [0.2222222222222222, \"#7201a8\"], [0.3333333333333333, \"#9c179e\"], [0.4444444444444444, \"#bd3786\"], [0.5555555555555556, \"#d8576b\"], [0.6666666666666666, \"#ed7953\"], [0.7777777777777778, \"#fb9f3a\"], [0.8888888888888888, \"#fdca26\"], [1.0, \"#f0f921\"]], \"type\": \"heatmapgl\"}], \"histogram\": [{\"marker\": {\"colorbar\": {\"outlinewidth\": 0, \"ticks\": \"\"}}, \"type\": \"histogram\"}], \"histogram2d\": [{\"colorbar\": {\"outlinewidth\": 0, \"ticks\": \"\"}, \"colorscale\": [[0.0, \"#0d0887\"], [0.1111111111111111, \"#46039f\"], [0.2222222222222222, \"#7201a8\"], [0.3333333333333333, \"#9c179e\"], [0.4444444444444444, \"#bd3786\"], [0.5555555555555556, \"#d8576b\"], [0.6666666666666666, \"#ed7953\"], [0.7777777777777778, \"#fb9f3a\"], [0.8888888888888888, \"#fdca26\"], [1.0, \"#f0f921\"]], \"type\": \"histogram2d\"}], \"histogram2dcontour\": [{\"colorbar\": {\"outlinewidth\": 0, \"ticks\": \"\"}, \"colorscale\": [[0.0, \"#0d0887\"], [0.1111111111111111, \"#46039f\"], [0.2222222222222222, \"#7201a8\"], [0.3333333333333333, \"#9c179e\"], [0.4444444444444444, \"#bd3786\"], [0.5555555555555556, \"#d8576b\"], [0.6666666666666666, \"#ed7953\"], [0.7777777777777778, \"#fb9f3a\"], [0.8888888888888888, \"#fdca26\"], [1.0, \"#f0f921\"]], \"type\": \"histogram2dcontour\"}], \"mesh3d\": [{\"colorbar\": {\"outlinewidth\": 0, \"ticks\": \"\"}, \"type\": \"mesh3d\"}], \"parcoords\": [{\"line\": {\"colorbar\": {\"outlinewidth\": 0, \"ticks\": \"\"}}, \"type\": \"parcoords\"}], \"pie\": [{\"automargin\": true, \"type\": \"pie\"}], \"scatter\": [{\"marker\": {\"colorbar\": {\"outlinewidth\": 0, \"ticks\": \"\"}}, \"type\": \"scatter\"}], \"scatter3d\": [{\"line\": {\"colorbar\": {\"outlinewidth\": 0, \"ticks\": \"\"}}, \"marker\": {\"colorbar\": {\"outlinewidth\": 0, \"ticks\": \"\"}}, \"type\": \"scatter3d\"}], \"scattercarpet\": [{\"marker\": {\"colorbar\": {\"outlinewidth\": 0, \"ticks\": \"\"}}, \"type\": \"scattercarpet\"}], \"scattergeo\": [{\"marker\": {\"colorbar\": {\"outlinewidth\": 0, \"ticks\": \"\"}}, \"type\": \"scattergeo\"}], \"scattergl\": [{\"marker\": {\"colorbar\": {\"outlinewidth\": 0, \"ticks\": \"\"}}, \"type\": \"scattergl\"}], \"scattermapbox\": [{\"marker\": {\"colorbar\": {\"outlinewidth\": 0, \"ticks\": \"\"}}, \"type\": \"scattermapbox\"}], \"scatterpolar\": [{\"marker\": {\"colorbar\": {\"outlinewidth\": 0, \"ticks\": \"\"}}, \"type\": \"scatterpolar\"}], \"scatterpolargl\": [{\"marker\": {\"colorbar\": {\"outlinewidth\": 0, \"ticks\": \"\"}}, \"type\": \"scatterpolargl\"}], \"scatterternary\": [{\"marker\": {\"colorbar\": {\"outlinewidth\": 0, \"ticks\": \"\"}}, \"type\": \"scatterternary\"}], \"surface\": [{\"colorbar\": {\"outlinewidth\": 0, \"ticks\": \"\"}, \"colorscale\": [[0.0, \"#0d0887\"], [0.1111111111111111, \"#46039f\"], [0.2222222222222222, \"#7201a8\"], [0.3333333333333333, \"#9c179e\"], [0.4444444444444444, \"#bd3786\"], [0.5555555555555556, \"#d8576b\"], [0.6666666666666666, \"#ed7953\"], [0.7777777777777778, \"#fb9f3a\"], [0.8888888888888888, \"#fdca26\"], [1.0, \"#f0f921\"]], \"type\": \"surface\"}], \"table\": [{\"cells\": {\"fill\": {\"color\": \"#EBF0F8\"}, \"line\": {\"color\": \"white\"}}, \"header\": {\"fill\": {\"color\": \"#C8D4E3\"}, \"line\": {\"color\": \"white\"}}, \"type\": \"table\"}]}, \"layout\": {\"annotationdefaults\": {\"arrowcolor\": \"#2a3f5f\", \"arrowhead\": 0, \"arrowwidth\": 1}, \"autotypenumbers\": \"strict\", \"coloraxis\": {\"colorbar\": {\"outlinewidth\": 0, \"ticks\": \"\"}}, \"colorscale\": {\"diverging\": [[0, \"#8e0152\"], [0.1, \"#c51b7d\"], [0.2, \"#de77ae\"], [0.3, \"#f1b6da\"], [0.4, \"#fde0ef\"], [0.5, \"#f7f7f7\"], [0.6, \"#e6f5d0\"], [0.7, \"#b8e186\"], [0.8, \"#7fbc41\"], [0.9, \"#4d9221\"], [1, \"#276419\"]], \"sequential\": [[0.0, \"#0d0887\"], [0.1111111111111111, \"#46039f\"], [0.2222222222222222, \"#7201a8\"], [0.3333333333333333, \"#9c179e\"], [0.4444444444444444, \"#bd3786\"], [0.5555555555555556, \"#d8576b\"], [0.6666666666666666, \"#ed7953\"], [0.7777777777777778, \"#fb9f3a\"], [0.8888888888888888, \"#fdca26\"], [1.0, \"#f0f921\"]], \"sequentialminus\": [[0.0, \"#0d0887\"], [0.1111111111111111, \"#46039f\"], [0.2222222222222222, \"#7201a8\"], [0.3333333333333333, \"#9c179e\"], [0.4444444444444444, \"#bd3786\"], [0.5555555555555556, \"#d8576b\"], [0.6666666666666666, \"#ed7953\"], [0.7777777777777778, \"#fb9f3a\"], [0.8888888888888888, \"#fdca26\"], [1.0, \"#f0f921\"]]}, \"colorway\": [\"#636efa\", \"#EF553B\", \"#00cc96\", \"#ab63fa\", \"#FFA15A\", \"#19d3f3\", \"#FF6692\", \"#B6E880\", \"#FF97FF\", \"#FECB52\"], \"font\": {\"color\": \"#2a3f5f\"}, \"geo\": {\"bgcolor\": \"white\", \"lakecolor\": \"white\", \"landcolor\": \"#E5ECF6\", \"showlakes\": true, \"showland\": true, \"subunitcolor\": \"white\"}, \"hoverlabel\": {\"align\": \"left\"}, \"hovermode\": \"closest\", \"mapbox\": {\"style\": \"light\"}, \"paper_bgcolor\": \"white\", \"plot_bgcolor\": \"#E5ECF6\", \"polar\": {\"angularaxis\": {\"gridcolor\": \"white\", \"linecolor\": \"white\", \"ticks\": \"\"}, \"bgcolor\": \"#E5ECF6\", \"radialaxis\": {\"gridcolor\": \"white\", \"linecolor\": \"white\", \"ticks\": \"\"}}, \"scene\": {\"xaxis\": {\"backgroundcolor\": \"#E5ECF6\", \"gridcolor\": \"white\", \"gridwidth\": 2, \"linecolor\": \"white\", \"showbackground\": true, \"ticks\": \"\", \"zerolinecolor\": \"white\"}, \"yaxis\": {\"backgroundcolor\": \"#E5ECF6\", \"gridcolor\": \"white\", \"gridwidth\": 2, \"linecolor\": \"white\", \"showbackground\": true, \"ticks\": \"\", \"zerolinecolor\": \"white\"}, \"zaxis\": {\"backgroundcolor\": \"#E5ECF6\", \"gridcolor\": \"white\", \"gridwidth\": 2, \"linecolor\": \"white\", \"showbackground\": true, \"ticks\": \"\", \"zerolinecolor\": \"white\"}}, \"shapedefaults\": {\"line\": {\"color\": \"#2a3f5f\"}}, \"ternary\": {\"aaxis\": {\"gridcolor\": \"white\", \"linecolor\": \"white\", \"ticks\": \"\"}, \"baxis\": {\"gridcolor\": \"white\", \"linecolor\": \"white\", \"ticks\": \"\"}, \"bgcolor\": \"#E5ECF6\", \"caxis\": {\"gridcolor\": \"white\", \"linecolor\": \"white\", \"ticks\": \"\"}}, \"title\": {\"x\": 0.05}, \"xaxis\": {\"automargin\": true, \"gridcolor\": \"white\", \"linecolor\": \"white\", \"ticks\": \"\", \"title\": {\"standoff\": 15}, \"zerolinecolor\": \"white\", \"zerolinewidth\": 2}, \"yaxis\": {\"automargin\": true, \"gridcolor\": \"white\", \"linecolor\": \"white\", \"ticks\": \"\", \"title\": {\"standoff\": 15}, \"zerolinecolor\": \"white\", \"zerolinewidth\": 2}}}, \"title\": {\"text\": \"Rocket launches cost(in billions) per years\"}, \"width\": 900, \"xaxis\": {\"anchor\": \"y\", \"domain\": [0.0, 1.0], \"dtick\": 5, \"tick0\": 1960, \"tickmode\": \"linear\", \"title\": {\"text\": \"year\"}}, \"yaxis\": {\"anchor\": \"x\", \"domain\": [0.0, 1.0], \"ticksuffix\": \"B\", \"title\": {\"text\": \"cost\"}}},                        {\"responsive\": true}                    ).then(function(){\n",
              "                            \n",
              "var gd = document.getElementById('2c98afe5-8e6a-45ec-9251-fcef96697d55');\n",
              "var x = new MutationObserver(function (mutations, observer) {{\n",
              "        var display = window.getComputedStyle(gd).display;\n",
              "        if (!display || display === 'none') {{\n",
              "            console.log([gd, 'removed!']);\n",
              "            Plotly.purge(gd);\n",
              "            observer.disconnect();\n",
              "        }}\n",
              "}});\n",
              "\n",
              "// Listen for the removal of the full notebook cells\n",
              "var notebookContainer = gd.closest('#notebook-container');\n",
              "if (notebookContainer) {{\n",
              "    x.observe(notebookContainer, {childList: true});\n",
              "}}\n",
              "\n",
              "// Listen for the clearing of the current output cell\n",
              "var outputEl = gd.closest('.output');\n",
              "if (outputEl) {{\n",
              "    x.observe(outputEl, {childList: true});\n",
              "}}\n",
              "\n",
              "                        })                };                            </script>        </div>\n",
              "</body>\n",
              "</html>"
            ]
          },
          "metadata": {
            "tags": []
          }
        }
      ]
    },
    {
      "cell_type": "markdown",
      "metadata": {
        "id": "y7MLQbkHxpcP"
      },
      "source": [
        "This chart shows us the amount of spent money per year by all space companies from 1964 till the 2020 year. We can also see here peaks, which are described by annotations - annotated events took the most of money those years. Money is presented in billions. The line chart fits the best because we can see the change in money spendings per year and their change. \n",
        "\n",
        "As you can see here, the most outstanding operations were executed despite the crises, e.g., 2007-2008 years.\n"
      ]
    },
    {
      "cell_type": "markdown",
      "metadata": {
        "id": "e-H8c-YNme0s"
      },
      "source": [
        "### Shuttle launches by years and country *"
      ]
    },
    {
      "cell_type": "code",
      "metadata": {
        "id": "A8XKXb3it_lK"
      },
      "source": [
        "country_df = df[[\"country\", \"year\"]].reset_index(drop=True)\n",
        "country_df.loc[:, \"launches\"]  = 1\n",
        "country_df = country_df.groupby([\"country\", \"year\"]).agg({\"launches\": \"sum\"})\n",
        "country_df = country_df.reset_index()"
      ],
      "execution_count": 13,
      "outputs": []
    },
    {
      "cell_type": "code",
      "metadata": {
        "colab": {
          "base_uri": "https://localhost:8080/",
          "height": 542
        },
        "id": "A8Vb0cVtn1ip",
        "outputId": "1ccfdb59-e149-4d6c-e040-ae90719a5b9f"
      },
      "source": [
        "fig = go.Figure()\n",
        "\n",
        "years = []\n",
        "\n",
        "for p_year in range(df.year.min(), df.year.max() + 1):\n",
        "    years.append(p_year)\n",
        "    inner_df = country_df[country_df.year == p_year].sort_values(\"launches\", ascending=False)\n",
        "    fig.add_trace(\n",
        "        go.Bar(\n",
        "            visible=False, \n",
        "            x=inner_df.country, \n",
        "            y=inner_df.launches,\n",
        "            name=\"\",\n",
        "        )\n",
        "    )\n",
        "\n",
        "fig.data[0].visible = True\n",
        "\n",
        "steps = []\n",
        "for i in range(len(fig.data)):\n",
        "    step = dict(\n",
        "        label=years[i],\n",
        "        method=\"update\",\n",
        "        args=[{\"visible\": [False] * len(fig.data)},\n",
        "              {\"title\": f\"Amount of launches by countries in {str(years[i])} year\"}],\n",
        "    )\n",
        "    step[\"args\"][0][\"visible\"][i] = True\n",
        "    steps.append(step)\n",
        "\n",
        "sliders = [dict(\n",
        "    active=0,\n",
        "    currentvalue={\"prefix\": \"Selected year: \"},\n",
        "    pad={\"t\": 50},\n",
        "    steps=steps\n",
        ")]\n",
        "\n",
        "fig.update_layout(\n",
        "    title=\"Amount of launches by countries in 1957 year\",\n",
        "    sliders=sliders\n",
        ")\n",
        "\n",
        "fig.show()"
      ],
      "execution_count": 14,
      "outputs": [
        {
          "output_type": "display_data",
          "data": {
            "text/html": [
              "<html>\n",
              "<head><meta charset=\"utf-8\" /></head>\n",
              "<body>\n",
              "    <div>            <script src=\"https://cdnjs.cloudflare.com/ajax/libs/mathjax/2.7.5/MathJax.js?config=TeX-AMS-MML_SVG\"></script><script type=\"text/javascript\">if (window.MathJax) {MathJax.Hub.Config({SVG: {font: \"STIX-Web\"}});}</script>                <script type=\"text/javascript\">window.PlotlyConfig = {MathJaxConfig: 'local'};</script>\n",
              "        <script src=\"https://cdn.plot.ly/plotly-latest.min.js\"></script>                <div id=\"b3f4673a-f17e-48c1-a3c9-19555b39f38b\" class=\"plotly-graph-div\" style=\"height:525px; width:100%;\"></div>            <script type=\"text/javascript\">                                    window.PLOTLYENV=window.PLOTLYENV || {};                                    if (document.getElementById(\"b3f4673a-f17e-48c1-a3c9-19555b39f38b\")) {                    Plotly.newPlot(                        \"b3f4673a-f17e-48c1-a3c9-19555b39f38b\",                        [{\"name\": \"\", \"type\": \"bar\", \"visible\": true, \"x\": [\"Kazakhstan\", \"USA\"], \"y\": [2, 1]}, {\"name\": \"\", \"type\": \"bar\", \"visible\": false, \"x\": [\"USA\", \"Kazakhstan\"], \"y\": [23, 5]}, {\"name\": \"\", \"type\": \"bar\", \"visible\": false, \"x\": [\"USA\", \"Kazakhstan\"], \"y\": [16, 4]}, {\"name\": \"\", \"type\": \"bar\", \"visible\": false, \"x\": [\"USA\", \"Kazakhstan\"], \"y\": [30, 9]}, {\"name\": \"\", \"type\": \"bar\", \"visible\": false, \"x\": [\"USA\", \"Kazakhstan\", \"Russia\"], \"y\": [43, 7, 2]}, {\"name\": \"\", \"type\": \"bar\", \"visible\": false, \"x\": [\"USA\", \"Kazakhstan\", \"Russia\"], \"y\": [60, 14, 8]}, {\"name\": \"\", \"type\": \"bar\", \"visible\": false, \"x\": [\"USA\", \"Kazakhstan\", \"Russia\"], \"y\": [17, 16, 8]}, {\"name\": \"\", \"type\": \"bar\", \"visible\": false, \"x\": [\"Kazakhstan\", \"USA\", \"Russia\"], \"y\": [28, 24, 8]}, {\"name\": \"\", \"type\": \"bar\", \"visible\": false, \"x\": [\"Kazakhstan\", \"USA\", \"Russia\", \"France\"], \"y\": [43, 33, 10, 1]}, {\"name\": \"\", \"type\": \"bar\", \"visible\": false, \"x\": [\"USA\", \"Kazakhstan\", \"Russia\", \"Japan\", \"France\"], \"y\": [47, 36, 15, 2, 1]}, {\"name\": \"\", \"type\": \"bar\", \"visible\": false, \"x\": [\"Kazakhstan\", \"Russia\", \"USA\", \"France\", \"Australia\", \"Japan\", \"Kenya\"], \"y\": [38, 37, 26, 2, 1, 1, 1]}, {\"name\": \"\", \"type\": \"bar\", \"visible\": false, \"x\": [\"Kazakhstan\", \"Russia\", \"USA\", \"Australia\"], \"y\": [40, 40, 22, 1]}, {\"name\": \"\", \"type\": \"bar\", \"visible\": false, \"x\": [\"Russia\", \"Kazakhstan\", \"USA\", \"Australia\", \"China\", \"Japan\"], \"y\": [45, 38, 17, 1, 1, 1]}, {\"name\": \"\", \"type\": \"bar\", \"visible\": false, \"x\": [\"Russia\", \"Kazakhstan\", \"USA\", \"Australia\", \"France\", \"Japan\", \"China\", \"Kenya\"], \"y\": [59, 29, 11, 2, 2, 2, 1, 1]}, {\"name\": \"\", \"type\": \"bar\", \"visible\": false, \"x\": [\"Russia\", \"Kazakhstan\", \"USA\", \"France\", \"Japan\", \"Kenya\", \"Australia\", \"China\"], \"y\": [62, 31, 16, 3, 3, 2, 1, 1]}, {\"name\": \"\", \"type\": \"bar\", \"visible\": false, \"x\": [\"Russia\", \"Kazakhstan\", \"USA\", \"China\", \"Japan\", \"Kenya\"], \"y\": [57, 22, 17, 1, 1, 1]}, {\"name\": \"\", \"type\": \"bar\", \"visible\": false, \"x\": [\"Russia\", \"Kazakhstan\", \"USA\", \"China\", \"France\"], \"y\": [67, 17, 17, 1, 1]}, {\"name\": \"\", \"type\": \"bar\", \"visible\": false, \"x\": [\"Russia\", \"Kazakhstan\", \"USA\", \"China\", \"Kenya\", \"Japan\"], \"y\": [60, 23, 10, 2, 2, 1]}, {\"name\": \"\", \"type\": \"bar\", \"visible\": false, \"x\": [\"Russia\", \"Kazakhstan\", \"USA\", \"China\", \"France\", \"Japan\", \"Kenya\"], \"y\": [66, 23, 15, 3, 3, 2, 1]}, {\"name\": \"\", \"type\": \"bar\", \"visible\": false, \"x\": [\"Russia\", \"Kazakhstan\", \"USA\", \"China\", \"Japan\"], \"y\": [66, 29, 13, 3, 2]}, {\"name\": \"\", \"type\": \"bar\", \"visible\": false, \"x\": [\"Russia\", \"Kazakhstan\", \"USA\", \"Japan\", \"China\"], \"y\": [72, 25, 14, 2, 1]}, {\"name\": \"\", \"type\": \"bar\", \"visible\": false, \"x\": [\"Russia\", \"USA\", \"Kazakhstan\", \"Japan\", \"China\"], \"y\": [62, 21, 9, 3, 2]}, {\"name\": \"\", \"type\": \"bar\", \"visible\": false, \"x\": [\"Russia\", \"USA\", \"Kazakhstan\", \"China\", \"France\", \"India\", \"Japan\"], \"y\": [33, 9, 3, 1, 1, 1, 1]}, {\"name\": \"\", \"type\": \"bar\", \"visible\": false, \"x\": [\"Russia\", \"USA\", \"Kazakhstan\", \"Japan\", \"France\", \"India\"], \"y\": [34, 11, 6, 2, 1, 1]}, {\"name\": \"\", \"type\": \"bar\", \"visible\": false, \"x\": [\"Russia\", \"USA\", \"Kazakhstan\", \"Japan\", \"France\", \"China\", \"India\"], \"y\": [41, 13, 10, 3, 2, 1, 1]}, {\"name\": \"\", \"type\": \"bar\", \"visible\": false, \"x\": [\"Russia\", \"USA\", \"Kazakhstan\", \"China\", \"France\", \"Japan\"], \"y\": [43, 11, 10, 1, 1, 1]}, {\"name\": \"\", \"type\": \"bar\", \"visible\": false, \"x\": [\"Russia\", \"USA\", \"Kazakhstan\", \"Japan\", \"France\", \"China\", \"India\"], \"y\": [40, 13, 6, 3, 2, 1, 1]}, {\"name\": \"\", \"type\": \"bar\", \"visible\": false, \"x\": [\"Russia\", \"USA\", \"France\", \"Kazakhstan\", \"China\", \"Japan\"], \"y\": [38, 17, 4, 4, 3, 3]}, {\"name\": \"\", \"type\": \"bar\", \"visible\": false, \"x\": [\"Russia\", \"USA\", \"Kazakhstan\", \"France\", \"Japan\", \"China\"], \"y\": [39, 16, 12, 4, 2, 1]}, {\"name\": \"\", \"type\": \"bar\", \"visible\": false, \"x\": [\"Russia\", \"Kazakhstan\", \"USA\", \"France\", \"China\", \"Japan\"], \"y\": [42, 7, 6, 3, 2, 2]}, {\"name\": \"\", \"type\": \"bar\", \"visible\": false, \"x\": [\"Russia\", \"Kazakhstan\", \"USA\", \"Japan\", \"China\", \"France\", \"India\"], \"y\": [30, 12, 6, 3, 2, 2, 1]}, {\"name\": \"\", \"type\": \"bar\", \"visible\": false, \"x\": [\"Russia\", \"Kazakhstan\", \"France\", \"USA\", \"China\", \"Japan\", \"India\", \"Israel\", \"Kenya\"], \"y\": [27, 9, 7, 7, 4, 2, 1, 1, 1]}, {\"name\": \"\", \"type\": \"bar\", \"visible\": false, \"x\": [\"Russia\", \"USA\", \"France\", \"Kazakhstan\", \"Japan\", \"India\"], \"y\": [22, 16, 7, 4, 2, 1]}, {\"name\": \"\", \"type\": \"bar\", \"visible\": false, \"x\": [\"Russia\", \"USA\", \"Kazakhstan\", \"France\", \"China\", \"Japan\", \"Israel\"], \"y\": [30, 26, 7, 6, 5, 5, 1]}, {\"name\": \"\", \"type\": \"bar\", \"visible\": false, \"x\": [\"Russia\", \"USA\", \"France\", \"Kazakhstan\", \"Japan\", \"China\"], \"y\": [25, 18, 8, 4, 3, 1]}, {\"name\": \"\", \"type\": \"bar\", \"visible\": false, \"x\": [\"USA\", \"Russia\", \"France\", \"China\", \"Kazakhstan\", \"Japan\"], \"y\": [27, 20, 7, 4, 3, 1]}, {\"name\": \"\", \"type\": \"bar\", \"visible\": false, \"x\": [\"USA\", \"Russia\", \"France\", \"Kazakhstan\", \"China\", \"India\", \"Japan\"], \"y\": [24, 21, 7, 6, 1, 1, 1]}, {\"name\": \"\", \"type\": \"bar\", \"visible\": false, \"x\": [\"USA\", \"Russia\", \"France\", \"Kazakhstan\", \"China\", \"India\", \"Japan\"], \"y\": [26, 15, 8, 6, 5, 2, 2]}, {\"name\": \"\", \"type\": \"bar\", \"visible\": false, \"x\": [\"USA\", \"France\", \"Russia\", \"Kazakhstan\", \"China\", \"Japan\", \"Israel\"], \"y\": [30, 11, 10, 4, 3, 2, 1]}, {\"name\": \"\", \"type\": \"bar\", \"visible\": false, \"x\": [\"USA\", \"France\", \"Russia\", \"China\", \"Kazakhstan\", \"India\", \"Japan\"], \"y\": [33, 11, 8, 4, 2, 1, 1]}, {\"name\": \"\", \"type\": \"bar\", \"visible\": false, \"x\": [\"USA\", \"France\", \"Russia\", \"China\", \"Kazakhstan\", \"Japan\", \"Brazil\", \"India\"], \"y\": [38, 12, 7, 6, 3, 2, 1, 1]}, {\"name\": \"\", \"type\": \"bar\", \"visible\": false, \"x\": [\"USA\", \"France\", \"Russia\", \"China\", \"Kazakhstan\", \"Japan\", \"Israel\", \"North Korea\"], \"y\": [36, 11, 8, 6, 3, 2, 1, 1]}, {\"name\": \"\", \"type\": \"bar\", \"visible\": false, \"x\": [\"USA\", \"France\", \"China\", \"Russia\", \"Kazakhstan\", \"Pacific Ocean\", \"Brazil\", \"India\", \"Japan\"], \"y\": [31, 10, 4, 4, 3, 2, 1, 1, 1]}, {\"name\": \"\", \"type\": \"bar\", \"visible\": false, \"x\": [\"USA\", \"France\", \"Russia\", \"China\", \"Kazakhstan\", \"Pacific Ocean\", \"Japan\"], \"y\": [28, 12, 6, 4, 3, 3, 1]}, {\"name\": \"\", \"type\": \"bar\", \"visible\": false, \"x\": [\"USA\", \"France\", \"Russia\", \"India\", \"Kazakhstan\", \"Pacific Ocean\", \"China\", \"Japan\"], \"y\": [22, 8, 5, 2, 2, 2, 1, 1]}, {\"name\": \"\", \"type\": \"bar\", \"visible\": false, \"x\": [\"USA\", \"France\", \"Russia\", \"China\", \"Japan\", \"India\", \"Israel\", \"Kazakhstan\", \"Pacific Ocean\"], \"y\": [17, 12, 8, 5, 3, 1, 1, 1, 1]}, {\"name\": \"\", \"type\": \"bar\", \"visible\": false, \"x\": [\"USA\", \"China\", \"Russia\", \"France\", \"Japan\", \"Pacific Ocean\", \"India\", \"Kazakhstan\", \"Brazil\"], \"y\": [23, 7, 7, 4, 3, 3, 2, 2, 1]}, {\"name\": \"\", \"type\": \"bar\", \"visible\": false, \"x\": [\"USA\", \"China\", \"Russia\", \"France\", \"Kazakhstan\", \"Pacific Ocean\", \"India\", \"Israel\"], \"y\": [16, 8, 5, 3, 3, 3, 1, 1]}, {\"name\": \"\", \"type\": \"bar\", \"visible\": false, \"x\": [\"USA\", \"Russia\", \"China\", \"France\", \"Pacific Ocean\", \"Japan\", \"India\", \"Kazakhstan\"], \"y\": [12, 7, 5, 5, 4, 2, 1, 1]}, {\"name\": \"\", \"type\": \"bar\", \"visible\": false, \"x\": [\"USA\", \"China\", \"Japan\", \"Russia\", \"France\", \"Pacific Ocean\", \"Kazakhstan\", \"India\"], \"y\": [18, 6, 6, 6, 5, 5, 2, 1]}, {\"name\": \"\", \"type\": \"bar\", \"visible\": false, \"x\": [\"USA\", \"China\", \"France\", \"Russia\", \"India\", \"Kazakhstan\", \"Japan\", \"Israel\", \"Pacific Ocean\"], \"y\": [19, 10, 6, 5, 3, 3, 2, 1, 1]}, {\"name\": \"\", \"type\": \"bar\", \"visible\": false, \"x\": [\"USA\", \"China\", \"France\", \"Russia\", \"Pacific Ocean\", \"India\", \"Kazakhstan\", \"Iran\", \"Japan\"], \"y\": [15, 9, 6, 6, 5, 3, 2, 1, 1]}, {\"name\": \"\", \"type\": \"bar\", \"visible\": false, \"x\": [\"USA\", \"France\", \"Russia\", \"Kazakhstan\", \"Japan\", \"India\", \"Iran\", \"North Korea\", \"Pacific Ocean\", \"South Korea\"], \"y\": [25, 7, 5, 4, 3, 2, 1, 1, 1, 1]}, {\"name\": \"\", \"type\": \"bar\", \"visible\": false, \"x\": [\"USA\", \"France\", \"Kazakhstan\", \"Russia\", \"India\", \"Israel\", \"Japan\", \"South Korea\"], \"y\": [15, 6, 5, 5, 3, 1, 1, 1]}, {\"name\": \"\", \"type\": \"bar\", \"visible\": false, \"x\": [\"USA\", \"France\", \"Japan\", \"Kazakhstan\", \"India\", \"China\", \"Russia\", \"Iran\", \"Pacific Ocean\"], \"y\": [18, 7, 4, 4, 3, 2, 2, 1, 1]}, {\"name\": \"\", \"type\": \"bar\", \"visible\": false, \"x\": [\"USA\", \"France\", \"India\", \"Iran\", \"Pacific Ocean\", \"Japan\", \"North Korea\", \"China\", \"Russia\"], \"y\": [13, 10, 3, 3, 3, 2, 2, 1, 1]}, {\"name\": \"\", \"type\": \"bar\", \"visible\": false, \"x\": [\"USA\", \"France\", \"Russia\", \"India\", \"Japan\", \"Kazakhstan\", \"China\", \"Pacific Ocean\", \"South Korea\"], \"y\": [19, 7, 7, 3, 3, 3, 2, 1, 1]}, {\"name\": \"\", \"type\": \"bar\", \"visible\": false, \"x\": [\"USA\", \"France\", \"Russia\", \"India\", \"Japan\", \"China\", \"Israel\", \"Kazakhstan\", \"Pacific Ocean\"], \"y\": [23, 11, 6, 5, 4, 1, 1, 1, 1]}, {\"name\": \"\", \"type\": \"bar\", \"visible\": false, \"x\": [\"USA\", \"France\", \"India\", \"Japan\", \"Russia\", \"China\", \"Iran\", \"Kazakhstan\"], \"y\": [22, 12, 5, 4, 4, 2, 2, 1]}, {\"name\": \"\", \"type\": \"bar\", \"visible\": false, \"x\": [\"USA\", \"China\", \"France\", \"Kazakhstan\", \"India\", \"Russia\", \"Japan\", \"Israel\", \"North Korea\"], \"y\": [27, 22, 11, 11, 7, 6, 4, 1, 1]}, {\"name\": \"\", \"type\": \"bar\", \"visible\": false, \"x\": [\"USA\", \"China\", \"Kazakhstan\", \"France\", \"Japan\", \"Russia\", \"India\", \"Iran\", \"New Zealand\"], \"y\": [30, 18, 13, 11, 7, 6, 5, 1, 1]}, {\"name\": \"\", \"type\": \"bar\", \"visible\": false, \"x\": [\"China\", \"USA\", \"France\", \"Kazakhstan\", \"Russia\", \"India\", \"Japan\", \"New Zealand\"], \"y\": [39, 34, 11, 9, 8, 7, 6, 3]}, {\"name\": \"\", \"type\": \"bar\", \"visible\": false, \"x\": [\"China\", \"USA\", \"Kazakhstan\", \"France\", \"Russia\", \"India\", \"New Zealand\", \"Iran\", \"Japan\"], \"y\": [34, 27, 13, 9, 9, 6, 6, 3, 2]}, {\"name\": \"\", \"type\": \"bar\", \"visible\": false, \"x\": [\"China\", \"USA\", \"Kazakhstan\", \"Japan\", \"New Zealand\", \"Russia\", \"France\", \"Iran\", \"Israel\"], \"y\": [22, 21, 6, 3, 3, 3, 2, 2, 1]}],                        {\"sliders\": [{\"active\": 0, \"currentvalue\": {\"prefix\": \"Selected year: \"}, \"pad\": {\"t\": 50}, \"steps\": [{\"args\": [{\"visible\": [true, false, false, false, false, false, false, false, false, false, false, false, false, false, false, false, false, false, false, false, false, false, false, false, false, false, false, false, false, false, false, false, false, false, false, false, false, false, false, false, false, false, false, false, false, false, false, false, false, false, false, false, false, false, false, false, false, false, false, false, false, false, false, false]}, {\"title\": \"Amount of launches by countries in 1957 year\"}], \"label\": \"1957\", \"method\": \"update\"}, {\"args\": [{\"visible\": [false, true, false, false, false, false, false, false, false, false, false, false, false, false, false, false, false, false, false, false, false, false, false, false, false, false, false, false, false, false, false, false, false, false, false, false, false, false, false, false, false, false, false, false, false, false, false, false, false, false, false, false, false, false, false, false, false, false, false, false, false, false, false, false]}, {\"title\": \"Amount of launches by countries in 1958 year\"}], \"label\": \"1958\", \"method\": \"update\"}, {\"args\": [{\"visible\": [false, false, true, false, false, false, false, false, false, false, false, false, false, false, false, false, false, false, false, false, false, false, false, false, false, false, false, false, false, false, false, false, false, false, false, false, false, false, false, false, false, false, false, false, false, false, false, false, false, false, false, false, false, false, false, false, false, false, false, false, false, false, false, false]}, {\"title\": \"Amount of launches by countries in 1959 year\"}], \"label\": \"1959\", \"method\": \"update\"}, {\"args\": [{\"visible\": [false, false, false, true, false, false, false, false, false, false, false, false, false, false, false, false, false, false, false, false, false, false, false, false, false, false, false, false, false, false, false, false, false, false, false, false, false, false, false, false, false, false, false, false, false, false, false, false, false, false, false, false, false, false, false, false, false, false, false, false, false, false, false, false]}, {\"title\": \"Amount of launches by countries in 1960 year\"}], \"label\": \"1960\", \"method\": \"update\"}, {\"args\": [{\"visible\": [false, false, false, false, true, false, false, false, false, false, false, false, false, false, false, false, false, false, false, false, false, false, false, false, false, false, false, false, false, false, false, false, false, false, false, false, false, false, false, false, false, false, false, false, false, false, false, false, false, false, false, false, false, false, false, false, false, false, false, false, false, false, false, false]}, {\"title\": \"Amount of launches by countries in 1961 year\"}], \"label\": \"1961\", \"method\": \"update\"}, {\"args\": [{\"visible\": [false, false, false, false, false, true, false, false, false, false, false, false, false, false, false, false, false, false, false, false, false, false, false, false, false, false, false, false, false, false, false, false, false, false, false, false, false, false, false, false, false, false, false, false, false, false, false, false, false, false, false, false, false, false, false, false, false, false, false, false, false, false, false, false]}, {\"title\": \"Amount of launches by countries in 1962 year\"}], \"label\": \"1962\", \"method\": \"update\"}, {\"args\": [{\"visible\": [false, false, false, false, false, false, true, false, false, false, false, false, false, false, false, false, false, false, false, false, false, false, false, false, false, false, false, false, false, false, false, false, false, false, false, false, false, false, false, false, false, false, false, false, false, false, false, false, false, false, false, false, false, false, false, false, false, false, false, false, false, false, false, false]}, {\"title\": \"Amount of launches by countries in 1963 year\"}], \"label\": \"1963\", \"method\": \"update\"}, {\"args\": [{\"visible\": [false, false, false, false, false, false, false, true, false, false, false, false, false, false, false, false, false, false, false, false, false, false, false, false, false, false, false, false, false, false, false, false, false, false, false, false, false, false, false, false, false, false, false, false, false, false, false, false, false, false, false, false, false, false, false, false, false, false, false, false, false, false, false, false]}, {\"title\": \"Amount of launches by countries in 1964 year\"}], \"label\": \"1964\", \"method\": \"update\"}, {\"args\": [{\"visible\": [false, false, false, false, false, false, false, false, true, false, false, false, false, false, false, false, false, false, false, false, false, false, false, false, false, false, false, false, false, false, false, false, false, false, false, false, false, false, false, false, false, false, false, false, false, false, false, false, false, false, false, false, false, false, false, false, false, false, false, false, false, false, false, false]}, {\"title\": \"Amount of launches by countries in 1965 year\"}], \"label\": \"1965\", \"method\": \"update\"}, {\"args\": [{\"visible\": [false, false, false, false, false, false, false, false, false, true, false, false, false, false, false, false, false, false, false, false, false, false, false, false, false, false, false, false, false, false, false, false, false, false, false, false, false, false, false, false, false, false, false, false, false, false, false, false, false, false, false, false, false, false, false, false, false, false, false, false, false, false, false, false]}, {\"title\": \"Amount of launches by countries in 1966 year\"}], \"label\": \"1966\", \"method\": \"update\"}, {\"args\": [{\"visible\": [false, false, false, false, false, false, false, false, false, false, true, false, false, false, false, false, false, false, false, false, false, false, false, false, false, false, false, false, false, false, false, false, false, false, false, false, false, false, false, false, false, false, false, false, false, false, false, false, false, false, false, false, false, false, false, false, false, false, false, false, false, false, false, false]}, {\"title\": \"Amount of launches by countries in 1967 year\"}], \"label\": \"1967\", \"method\": \"update\"}, {\"args\": [{\"visible\": [false, false, false, false, false, false, false, false, false, false, false, true, false, false, false, false, false, false, false, false, false, false, false, false, false, false, false, false, false, false, false, false, false, false, false, false, false, false, false, false, false, false, false, false, false, false, false, false, false, false, false, false, false, false, false, false, false, false, false, false, false, false, false, false]}, {\"title\": \"Amount of launches by countries in 1968 year\"}], \"label\": \"1968\", \"method\": \"update\"}, {\"args\": [{\"visible\": [false, false, false, false, false, false, false, false, false, false, false, false, true, false, false, false, false, false, false, false, false, false, false, false, false, false, false, false, false, false, false, false, false, false, false, false, false, false, false, false, false, false, false, false, false, false, false, false, false, false, false, false, false, false, false, false, false, false, false, false, false, false, false, false]}, {\"title\": \"Amount of launches by countries in 1969 year\"}], \"label\": \"1969\", \"method\": \"update\"}, {\"args\": [{\"visible\": [false, false, false, false, false, false, false, false, false, false, false, false, false, true, false, false, false, false, false, false, false, false, false, false, false, false, false, false, false, false, false, false, false, false, false, false, false, false, false, false, false, false, false, false, false, false, false, false, false, false, false, false, false, false, false, false, false, false, false, false, false, false, false, false]}, {\"title\": \"Amount of launches by countries in 1970 year\"}], \"label\": \"1970\", \"method\": \"update\"}, {\"args\": [{\"visible\": [false, false, false, false, false, false, false, false, false, false, false, false, false, false, true, false, false, false, false, false, false, false, false, false, false, false, false, false, false, false, false, false, false, false, false, false, false, false, false, false, false, false, false, false, false, false, false, false, false, false, false, false, false, false, false, false, false, false, false, false, false, false, false, false]}, {\"title\": \"Amount of launches by countries in 1971 year\"}], \"label\": \"1971\", \"method\": \"update\"}, {\"args\": [{\"visible\": [false, false, false, false, false, false, false, false, false, false, false, false, false, false, false, true, false, false, false, false, false, false, false, false, false, false, false, false, false, false, false, false, false, false, false, false, false, false, false, false, false, false, false, false, false, false, false, false, false, false, false, false, false, false, false, false, false, false, false, false, false, false, false, false]}, {\"title\": \"Amount of launches by countries in 1972 year\"}], \"label\": \"1972\", \"method\": \"update\"}, {\"args\": [{\"visible\": [false, false, false, false, false, false, false, false, false, false, false, false, false, false, false, false, true, false, false, false, false, false, false, false, false, false, false, false, false, false, false, false, false, false, false, false, false, false, false, false, false, false, false, false, false, false, false, false, false, false, false, false, false, false, false, false, false, false, false, false, false, false, false, false]}, {\"title\": \"Amount of launches by countries in 1973 year\"}], \"label\": \"1973\", \"method\": \"update\"}, {\"args\": [{\"visible\": [false, false, false, false, false, false, false, false, false, false, false, false, false, false, false, false, false, true, false, false, false, false, false, false, false, false, false, false, false, false, false, false, false, false, false, false, false, false, false, false, false, false, false, false, false, false, false, false, false, false, false, false, false, false, false, false, false, false, false, false, false, false, false, false]}, {\"title\": \"Amount of launches by countries in 1974 year\"}], \"label\": \"1974\", \"method\": \"update\"}, {\"args\": [{\"visible\": [false, false, false, false, false, false, false, false, false, false, false, false, false, false, false, false, false, false, true, false, false, false, false, false, false, false, false, false, false, false, false, false, false, false, false, false, false, false, false, false, false, false, false, false, false, false, false, false, false, false, false, false, false, false, false, false, false, false, false, false, false, false, false, false]}, {\"title\": \"Amount of launches by countries in 1975 year\"}], \"label\": \"1975\", \"method\": \"update\"}, {\"args\": [{\"visible\": [false, false, false, false, false, false, false, false, false, false, false, false, false, false, false, false, false, false, false, true, false, false, false, false, false, false, false, false, false, false, false, false, false, false, false, false, false, false, false, false, false, false, false, false, false, false, false, false, false, false, false, false, false, false, false, false, false, false, false, false, false, false, false, false]}, {\"title\": \"Amount of launches by countries in 1976 year\"}], \"label\": \"1976\", \"method\": \"update\"}, {\"args\": [{\"visible\": [false, false, false, false, false, false, false, false, false, false, false, false, false, false, false, false, false, false, false, false, true, false, false, false, false, false, false, false, false, false, false, false, false, false, false, false, false, false, false, false, false, false, false, false, false, false, false, false, false, false, false, false, false, false, false, false, false, false, false, false, false, false, false, false]}, {\"title\": \"Amount of launches by countries in 1977 year\"}], \"label\": \"1977\", \"method\": \"update\"}, {\"args\": [{\"visible\": [false, false, false, false, false, false, false, false, false, false, false, false, false, false, false, false, false, false, false, false, false, true, false, false, false, false, false, false, false, false, false, false, false, false, false, false, false, false, false, false, false, false, false, false, false, false, false, false, false, false, false, false, false, false, false, false, false, false, false, false, false, false, false, false]}, {\"title\": \"Amount of launches by countries in 1978 year\"}], \"label\": \"1978\", \"method\": \"update\"}, {\"args\": [{\"visible\": [false, false, false, false, false, false, false, false, false, false, false, false, false, false, false, false, false, false, false, false, false, false, true, false, false, false, false, false, false, false, false, false, false, false, false, false, false, false, false, false, false, false, false, false, false, false, false, false, false, false, false, false, false, false, false, false, false, false, false, false, false, false, false, false]}, {\"title\": \"Amount of launches by countries in 1979 year\"}], \"label\": \"1979\", \"method\": \"update\"}, {\"args\": [{\"visible\": [false, false, false, false, false, false, false, false, false, false, false, false, false, false, false, false, false, false, false, false, false, false, false, true, false, false, false, false, false, false, false, false, false, false, false, false, false, false, false, false, false, false, false, false, false, false, false, false, false, false, false, false, false, false, false, false, false, false, false, false, false, false, false, false]}, {\"title\": \"Amount of launches by countries in 1980 year\"}], \"label\": \"1980\", \"method\": \"update\"}, {\"args\": [{\"visible\": [false, false, false, false, false, false, false, false, false, false, false, false, false, false, false, false, false, false, false, false, false, false, false, false, true, false, false, false, false, false, false, false, false, false, false, false, false, false, false, false, false, false, false, false, false, false, false, false, false, false, false, false, false, false, false, false, false, false, false, false, false, false, false, false]}, {\"title\": \"Amount of launches by countries in 1981 year\"}], \"label\": \"1981\", \"method\": \"update\"}, {\"args\": [{\"visible\": [false, false, false, false, false, false, false, false, false, false, false, false, false, false, false, false, false, false, false, false, false, false, false, false, false, true, false, false, false, false, false, false, false, false, false, false, false, false, false, false, false, false, false, false, false, false, false, false, false, false, false, false, false, false, false, false, false, false, false, false, false, false, false, false]}, {\"title\": \"Amount of launches by countries in 1982 year\"}], \"label\": \"1982\", \"method\": \"update\"}, {\"args\": [{\"visible\": [false, false, false, false, false, false, false, false, false, false, false, false, false, false, false, false, false, false, false, false, false, false, false, false, false, false, true, false, false, false, false, false, false, false, false, false, false, false, false, false, false, false, false, false, false, false, false, false, false, false, false, false, false, false, false, false, false, false, false, false, false, false, false, false]}, {\"title\": \"Amount of launches by countries in 1983 year\"}], \"label\": \"1983\", \"method\": \"update\"}, {\"args\": [{\"visible\": [false, false, false, false, false, false, false, false, false, false, false, false, false, false, false, false, false, false, false, false, false, false, false, false, false, false, false, true, false, false, false, false, false, false, false, false, false, false, false, false, false, false, false, false, false, false, false, false, false, false, false, false, false, false, false, false, false, false, false, false, false, false, false, false]}, {\"title\": \"Amount of launches by countries in 1984 year\"}], \"label\": \"1984\", \"method\": \"update\"}, {\"args\": [{\"visible\": [false, false, false, false, false, false, false, false, false, false, false, false, false, false, false, false, false, false, false, false, false, false, false, false, false, false, false, false, true, false, false, false, false, false, false, false, false, false, false, false, false, false, false, false, false, false, false, false, false, false, false, false, false, false, false, false, false, false, false, false, false, false, false, false]}, {\"title\": \"Amount of launches by countries in 1985 year\"}], \"label\": \"1985\", \"method\": \"update\"}, {\"args\": [{\"visible\": [false, false, false, false, false, false, false, false, false, false, false, false, false, false, false, false, false, false, false, false, false, false, false, false, false, false, false, false, false, true, false, false, false, false, false, false, false, false, false, false, false, false, false, false, false, false, false, false, false, false, false, false, false, false, false, false, false, false, false, false, false, false, false, false]}, {\"title\": \"Amount of launches by countries in 1986 year\"}], \"label\": \"1986\", \"method\": \"update\"}, {\"args\": [{\"visible\": [false, false, false, false, false, false, false, false, false, false, false, false, false, false, false, false, false, false, false, false, false, false, false, false, false, false, false, false, false, false, true, false, false, false, false, false, false, false, false, false, false, false, false, false, false, false, false, false, false, false, false, false, false, false, false, false, false, false, false, false, false, false, false, false]}, {\"title\": \"Amount of launches by countries in 1987 year\"}], \"label\": \"1987\", \"method\": \"update\"}, {\"args\": [{\"visible\": [false, false, false, false, false, false, false, false, false, false, false, false, false, false, false, false, false, false, false, false, false, false, false, false, false, false, false, false, false, false, false, true, false, false, false, false, false, false, false, false, false, false, false, false, false, false, false, false, false, false, false, false, false, false, false, false, false, false, false, false, false, false, false, false]}, {\"title\": \"Amount of launches by countries in 1988 year\"}], \"label\": \"1988\", \"method\": \"update\"}, {\"args\": [{\"visible\": [false, false, false, false, false, false, false, false, false, false, false, false, false, false, false, false, false, false, false, false, false, false, false, false, false, false, false, false, false, false, false, false, true, false, false, false, false, false, false, false, false, false, false, false, false, false, false, false, false, false, false, false, false, false, false, false, false, false, false, false, false, false, false, false]}, {\"title\": \"Amount of launches by countries in 1989 year\"}], \"label\": \"1989\", \"method\": \"update\"}, {\"args\": [{\"visible\": [false, false, false, false, false, false, false, false, false, false, false, false, false, false, false, false, false, false, false, false, false, false, false, false, false, false, false, false, false, false, false, false, false, true, false, false, false, false, false, false, false, false, false, false, false, false, false, false, false, false, false, false, false, false, false, false, false, false, false, false, false, false, false, false]}, {\"title\": \"Amount of launches by countries in 1990 year\"}], \"label\": \"1990\", \"method\": \"update\"}, {\"args\": [{\"visible\": [false, false, false, false, false, false, false, false, false, false, false, false, false, false, false, false, false, false, false, false, false, false, false, false, false, false, false, false, false, false, false, false, false, false, true, false, false, false, false, false, false, false, false, false, false, false, false, false, false, false, false, false, false, false, false, false, false, false, false, false, false, false, false, false]}, {\"title\": \"Amount of launches by countries in 1991 year\"}], \"label\": \"1991\", \"method\": \"update\"}, {\"args\": [{\"visible\": [false, false, false, false, false, false, false, false, false, false, false, false, false, false, false, false, false, false, false, false, false, false, false, false, false, false, false, false, false, false, false, false, false, false, false, true, false, false, false, false, false, false, false, false, false, false, false, false, false, false, false, false, false, false, false, false, false, false, false, false, false, false, false, false]}, {\"title\": \"Amount of launches by countries in 1992 year\"}], \"label\": \"1992\", \"method\": \"update\"}, {\"args\": [{\"visible\": [false, false, false, false, false, false, false, false, false, false, false, false, false, false, false, false, false, false, false, false, false, false, false, false, false, false, false, false, false, false, false, false, false, false, false, false, true, false, false, false, false, false, false, false, false, false, false, false, false, false, false, false, false, false, false, false, false, false, false, false, false, false, false, false]}, {\"title\": \"Amount of launches by countries in 1993 year\"}], \"label\": \"1993\", \"method\": \"update\"}, {\"args\": [{\"visible\": [false, false, false, false, false, false, false, false, false, false, false, false, false, false, false, false, false, false, false, false, false, false, false, false, false, false, false, false, false, false, false, false, false, false, false, false, false, true, false, false, false, false, false, false, false, false, false, false, false, false, false, false, false, false, false, false, false, false, false, false, false, false, false, false]}, {\"title\": \"Amount of launches by countries in 1994 year\"}], \"label\": \"1994\", \"method\": \"update\"}, {\"args\": [{\"visible\": [false, false, false, false, false, false, false, false, false, false, false, false, false, false, false, false, false, false, false, false, false, false, false, false, false, false, false, false, false, false, false, false, false, false, false, false, false, false, true, false, false, false, false, false, false, false, false, false, false, false, false, false, false, false, false, false, false, false, false, false, false, false, false, false]}, {\"title\": \"Amount of launches by countries in 1995 year\"}], \"label\": \"1995\", \"method\": \"update\"}, {\"args\": [{\"visible\": [false, false, false, false, false, false, false, false, false, false, false, false, false, false, false, false, false, false, false, false, false, false, false, false, false, false, false, false, false, false, false, false, false, false, false, false, false, false, false, true, false, false, false, false, false, false, false, false, false, false, false, false, false, false, false, false, false, false, false, false, false, false, false, false]}, {\"title\": \"Amount of launches by countries in 1996 year\"}], \"label\": \"1996\", \"method\": \"update\"}, {\"args\": [{\"visible\": [false, false, false, false, false, false, false, false, false, false, false, false, false, false, false, false, false, false, false, false, false, false, false, false, false, false, false, false, false, false, false, false, false, false, false, false, false, false, false, false, true, false, false, false, false, false, false, false, false, false, false, false, false, false, false, false, false, false, false, false, false, false, false, false]}, {\"title\": \"Amount of launches by countries in 1997 year\"}], \"label\": \"1997\", \"method\": \"update\"}, {\"args\": [{\"visible\": [false, false, false, false, false, false, false, false, false, false, false, false, false, false, false, false, false, false, false, false, false, false, false, false, false, false, false, false, false, false, false, false, false, false, false, false, false, false, false, false, false, true, false, false, false, false, false, false, false, false, false, false, false, false, false, false, false, false, false, false, false, false, false, false]}, {\"title\": \"Amount of launches by countries in 1998 year\"}], \"label\": \"1998\", \"method\": \"update\"}, {\"args\": [{\"visible\": [false, false, false, false, false, false, false, false, false, false, false, false, false, false, false, false, false, false, false, false, false, false, false, false, false, false, false, false, false, false, false, false, false, false, false, false, false, false, false, false, false, false, true, false, false, false, false, false, false, false, false, false, false, false, false, false, false, false, false, false, false, false, false, false]}, {\"title\": \"Amount of launches by countries in 1999 year\"}], \"label\": \"1999\", \"method\": \"update\"}, {\"args\": [{\"visible\": [false, false, false, false, false, false, false, false, false, false, false, false, false, false, false, false, false, false, false, false, false, false, false, false, false, false, false, false, false, false, false, false, false, false, false, false, false, false, false, false, false, false, false, true, false, false, false, false, false, false, false, false, false, false, false, false, false, false, false, false, false, false, false, false]}, {\"title\": \"Amount of launches by countries in 2000 year\"}], \"label\": \"2000\", \"method\": \"update\"}, {\"args\": [{\"visible\": [false, false, false, false, false, false, false, false, false, false, false, false, false, false, false, false, false, false, false, false, false, false, false, false, false, false, false, false, false, false, false, false, false, false, false, false, false, false, false, false, false, false, false, false, true, false, false, false, false, false, false, false, false, false, false, false, false, false, false, false, false, false, false, false]}, {\"title\": \"Amount of launches by countries in 2001 year\"}], \"label\": \"2001\", \"method\": \"update\"}, {\"args\": [{\"visible\": [false, false, false, false, false, false, false, false, false, false, false, false, false, false, false, false, false, false, false, false, false, false, false, false, false, false, false, false, false, false, false, false, false, false, false, false, false, false, false, false, false, false, false, false, false, true, false, false, false, false, false, false, false, false, false, false, false, false, false, false, false, false, false, false]}, {\"title\": \"Amount of launches by countries in 2002 year\"}], \"label\": \"2002\", \"method\": \"update\"}, {\"args\": [{\"visible\": [false, false, false, false, false, false, false, false, false, false, false, false, false, false, false, false, false, false, false, false, false, false, false, false, false, false, false, false, false, false, false, false, false, false, false, false, false, false, false, false, false, false, false, false, false, false, true, false, false, false, false, false, false, false, false, false, false, false, false, false, false, false, false, false]}, {\"title\": \"Amount of launches by countries in 2003 year\"}], \"label\": \"2003\", \"method\": \"update\"}, {\"args\": [{\"visible\": [false, false, false, false, false, false, false, false, false, false, false, false, false, false, false, false, false, false, false, false, false, false, false, false, false, false, false, false, false, false, false, false, false, false, false, false, false, false, false, false, false, false, false, false, false, false, false, true, false, false, false, false, false, false, false, false, false, false, false, false, false, false, false, false]}, {\"title\": \"Amount of launches by countries in 2004 year\"}], \"label\": \"2004\", \"method\": \"update\"}, {\"args\": [{\"visible\": [false, false, false, false, false, false, false, false, false, false, false, false, false, false, false, false, false, false, false, false, false, false, false, false, false, false, false, false, false, false, false, false, false, false, false, false, false, false, false, false, false, false, false, false, false, false, false, false, true, false, false, false, false, false, false, false, false, false, false, false, false, false, false, false]}, {\"title\": \"Amount of launches by countries in 2005 year\"}], \"label\": \"2005\", \"method\": \"update\"}, {\"args\": [{\"visible\": [false, false, false, false, false, false, false, false, false, false, false, false, false, false, false, false, false, false, false, false, false, false, false, false, false, false, false, false, false, false, false, false, false, false, false, false, false, false, false, false, false, false, false, false, false, false, false, false, false, true, false, false, false, false, false, false, false, false, false, false, false, false, false, false]}, {\"title\": \"Amount of launches by countries in 2006 year\"}], \"label\": \"2006\", \"method\": \"update\"}, {\"args\": [{\"visible\": [false, false, false, false, false, false, false, false, false, false, false, false, false, false, false, false, false, false, false, false, false, false, false, false, false, false, false, false, false, false, false, false, false, false, false, false, false, false, false, false, false, false, false, false, false, false, false, false, false, false, true, false, false, false, false, false, false, false, false, false, false, false, false, false]}, {\"title\": \"Amount of launches by countries in 2007 year\"}], \"label\": \"2007\", \"method\": \"update\"}, {\"args\": [{\"visible\": [false, false, false, false, false, false, false, false, false, false, false, false, false, false, false, false, false, false, false, false, false, false, false, false, false, false, false, false, false, false, false, false, false, false, false, false, false, false, false, false, false, false, false, false, false, false, false, false, false, false, false, true, false, false, false, false, false, false, false, false, false, false, false, false]}, {\"title\": \"Amount of launches by countries in 2008 year\"}], \"label\": \"2008\", \"method\": \"update\"}, {\"args\": [{\"visible\": [false, false, false, false, false, false, false, false, false, false, false, false, false, false, false, false, false, false, false, false, false, false, false, false, false, false, false, false, false, false, false, false, false, false, false, false, false, false, false, false, false, false, false, false, false, false, false, false, false, false, false, false, true, false, false, false, false, false, false, false, false, false, false, false]}, {\"title\": \"Amount of launches by countries in 2009 year\"}], \"label\": \"2009\", \"method\": \"update\"}, {\"args\": [{\"visible\": [false, false, false, false, false, false, false, false, false, false, false, false, false, false, false, false, false, false, false, false, false, false, false, false, false, false, false, false, false, false, false, false, false, false, false, false, false, false, false, false, false, false, false, false, false, false, false, false, false, false, false, false, false, true, false, false, false, false, false, false, false, false, false, false]}, {\"title\": \"Amount of launches by countries in 2010 year\"}], \"label\": \"2010\", \"method\": \"update\"}, {\"args\": [{\"visible\": [false, false, false, false, false, false, false, false, false, false, false, false, false, false, false, false, false, false, false, false, false, false, false, false, false, false, false, false, false, false, false, false, false, false, false, false, false, false, false, false, false, false, false, false, false, false, false, false, false, false, false, false, false, false, true, false, false, false, false, false, false, false, false, false]}, {\"title\": \"Amount of launches by countries in 2011 year\"}], \"label\": \"2011\", \"method\": \"update\"}, {\"args\": [{\"visible\": [false, false, false, false, false, false, false, false, false, false, false, false, false, false, false, false, false, false, false, false, false, false, false, false, false, false, false, false, false, false, false, false, false, false, false, false, false, false, false, false, false, false, false, false, false, false, false, false, false, false, false, false, false, false, false, true, false, false, false, false, false, false, false, false]}, {\"title\": \"Amount of launches by countries in 2012 year\"}], \"label\": \"2012\", \"method\": \"update\"}, {\"args\": [{\"visible\": [false, false, false, false, false, false, false, false, false, false, false, false, false, false, false, false, false, false, false, false, false, false, false, false, false, false, false, false, false, false, false, false, false, false, false, false, false, false, false, false, false, false, false, false, false, false, false, false, false, false, false, false, false, false, false, false, true, false, false, false, false, false, false, false]}, {\"title\": \"Amount of launches by countries in 2013 year\"}], \"label\": \"2013\", \"method\": \"update\"}, {\"args\": [{\"visible\": [false, false, false, false, false, false, false, false, false, false, false, false, false, false, false, false, false, false, false, false, false, false, false, false, false, false, false, false, false, false, false, false, false, false, false, false, false, false, false, false, false, false, false, false, false, false, false, false, false, false, false, false, false, false, false, false, false, true, false, false, false, false, false, false]}, {\"title\": \"Amount of launches by countries in 2014 year\"}], \"label\": \"2014\", \"method\": \"update\"}, {\"args\": [{\"visible\": [false, false, false, false, false, false, false, false, false, false, false, false, false, false, false, false, false, false, false, false, false, false, false, false, false, false, false, false, false, false, false, false, false, false, false, false, false, false, false, false, false, false, false, false, false, false, false, false, false, false, false, false, false, false, false, false, false, false, true, false, false, false, false, false]}, {\"title\": \"Amount of launches by countries in 2015 year\"}], \"label\": \"2015\", \"method\": \"update\"}, {\"args\": [{\"visible\": [false, false, false, false, false, false, false, false, false, false, false, false, false, false, false, false, false, false, false, false, false, false, false, false, false, false, false, false, false, false, false, false, false, false, false, false, false, false, false, false, false, false, false, false, false, false, false, false, false, false, false, false, false, false, false, false, false, false, false, true, false, false, false, false]}, {\"title\": \"Amount of launches by countries in 2016 year\"}], \"label\": \"2016\", \"method\": \"update\"}, {\"args\": [{\"visible\": [false, false, false, false, false, false, false, false, false, false, false, false, false, false, false, false, false, false, false, false, false, false, false, false, false, false, false, false, false, false, false, false, false, false, false, false, false, false, false, false, false, false, false, false, false, false, false, false, false, false, false, false, false, false, false, false, false, false, false, false, true, false, false, false]}, {\"title\": \"Amount of launches by countries in 2017 year\"}], \"label\": \"2017\", \"method\": \"update\"}, {\"args\": [{\"visible\": [false, false, false, false, false, false, false, false, false, false, false, false, false, false, false, false, false, false, false, false, false, false, false, false, false, false, false, false, false, false, false, false, false, false, false, false, false, false, false, false, false, false, false, false, false, false, false, false, false, false, false, false, false, false, false, false, false, false, false, false, false, true, false, false]}, {\"title\": \"Amount of launches by countries in 2018 year\"}], \"label\": \"2018\", \"method\": \"update\"}, {\"args\": [{\"visible\": [false, false, false, false, false, false, false, false, false, false, false, false, false, false, false, false, false, false, false, false, false, false, false, false, false, false, false, false, false, false, false, false, false, false, false, false, false, false, false, false, false, false, false, false, false, false, false, false, false, false, false, false, false, false, false, false, false, false, false, false, false, false, true, false]}, {\"title\": \"Amount of launches by countries in 2019 year\"}], \"label\": \"2019\", \"method\": \"update\"}, {\"args\": [{\"visible\": [false, false, false, false, false, false, false, false, false, false, false, false, false, false, false, false, false, false, false, false, false, false, false, false, false, false, false, false, false, false, false, false, false, false, false, false, false, false, false, false, false, false, false, false, false, false, false, false, false, false, false, false, false, false, false, false, false, false, false, false, false, false, false, true]}, {\"title\": \"Amount of launches by countries in 2020 year\"}], \"label\": \"2020\", \"method\": \"update\"}]}], \"template\": {\"data\": {\"bar\": [{\"error_x\": {\"color\": \"#2a3f5f\"}, \"error_y\": {\"color\": \"#2a3f5f\"}, \"marker\": {\"line\": {\"color\": \"#E5ECF6\", \"width\": 0.5}}, \"type\": \"bar\"}], \"barpolar\": [{\"marker\": {\"line\": {\"color\": \"#E5ECF6\", \"width\": 0.5}}, \"type\": \"barpolar\"}], \"carpet\": [{\"aaxis\": {\"endlinecolor\": \"#2a3f5f\", \"gridcolor\": \"white\", \"linecolor\": \"white\", \"minorgridcolor\": \"white\", \"startlinecolor\": \"#2a3f5f\"}, \"baxis\": {\"endlinecolor\": \"#2a3f5f\", \"gridcolor\": \"white\", \"linecolor\": \"white\", \"minorgridcolor\": \"white\", \"startlinecolor\": \"#2a3f5f\"}, \"type\": \"carpet\"}], \"choropleth\": [{\"colorbar\": {\"outlinewidth\": 0, \"ticks\": \"\"}, \"type\": \"choropleth\"}], \"contour\": [{\"colorbar\": {\"outlinewidth\": 0, \"ticks\": \"\"}, \"colorscale\": [[0.0, \"#0d0887\"], [0.1111111111111111, \"#46039f\"], [0.2222222222222222, \"#7201a8\"], [0.3333333333333333, \"#9c179e\"], [0.4444444444444444, \"#bd3786\"], [0.5555555555555556, \"#d8576b\"], [0.6666666666666666, \"#ed7953\"], [0.7777777777777778, \"#fb9f3a\"], [0.8888888888888888, \"#fdca26\"], [1.0, \"#f0f921\"]], \"type\": \"contour\"}], \"contourcarpet\": [{\"colorbar\": {\"outlinewidth\": 0, \"ticks\": \"\"}, \"type\": \"contourcarpet\"}], \"heatmap\": [{\"colorbar\": {\"outlinewidth\": 0, \"ticks\": \"\"}, \"colorscale\": [[0.0, \"#0d0887\"], [0.1111111111111111, \"#46039f\"], [0.2222222222222222, \"#7201a8\"], [0.3333333333333333, \"#9c179e\"], [0.4444444444444444, \"#bd3786\"], [0.5555555555555556, \"#d8576b\"], [0.6666666666666666, \"#ed7953\"], [0.7777777777777778, \"#fb9f3a\"], [0.8888888888888888, \"#fdca26\"], [1.0, \"#f0f921\"]], \"type\": \"heatmap\"}], \"heatmapgl\": [{\"colorbar\": {\"outlinewidth\": 0, \"ticks\": \"\"}, \"colorscale\": [[0.0, \"#0d0887\"], [0.1111111111111111, \"#46039f\"], [0.2222222222222222, \"#7201a8\"], [0.3333333333333333, \"#9c179e\"], [0.4444444444444444, \"#bd3786\"], [0.5555555555555556, \"#d8576b\"], [0.6666666666666666, \"#ed7953\"], [0.7777777777777778, \"#fb9f3a\"], [0.8888888888888888, \"#fdca26\"], [1.0, \"#f0f921\"]], \"type\": \"heatmapgl\"}], \"histogram\": [{\"marker\": {\"colorbar\": {\"outlinewidth\": 0, \"ticks\": \"\"}}, \"type\": \"histogram\"}], \"histogram2d\": [{\"colorbar\": {\"outlinewidth\": 0, \"ticks\": \"\"}, \"colorscale\": [[0.0, \"#0d0887\"], [0.1111111111111111, \"#46039f\"], [0.2222222222222222, \"#7201a8\"], [0.3333333333333333, \"#9c179e\"], [0.4444444444444444, \"#bd3786\"], [0.5555555555555556, \"#d8576b\"], [0.6666666666666666, \"#ed7953\"], [0.7777777777777778, \"#fb9f3a\"], [0.8888888888888888, \"#fdca26\"], [1.0, \"#f0f921\"]], \"type\": \"histogram2d\"}], \"histogram2dcontour\": [{\"colorbar\": {\"outlinewidth\": 0, \"ticks\": \"\"}, \"colorscale\": [[0.0, \"#0d0887\"], [0.1111111111111111, \"#46039f\"], [0.2222222222222222, \"#7201a8\"], [0.3333333333333333, \"#9c179e\"], [0.4444444444444444, \"#bd3786\"], [0.5555555555555556, \"#d8576b\"], [0.6666666666666666, \"#ed7953\"], [0.7777777777777778, \"#fb9f3a\"], [0.8888888888888888, \"#fdca26\"], [1.0, \"#f0f921\"]], \"type\": \"histogram2dcontour\"}], \"mesh3d\": [{\"colorbar\": {\"outlinewidth\": 0, \"ticks\": \"\"}, \"type\": \"mesh3d\"}], \"parcoords\": [{\"line\": {\"colorbar\": {\"outlinewidth\": 0, \"ticks\": \"\"}}, \"type\": \"parcoords\"}], \"pie\": [{\"automargin\": true, \"type\": \"pie\"}], \"scatter\": [{\"marker\": {\"colorbar\": {\"outlinewidth\": 0, \"ticks\": \"\"}}, \"type\": \"scatter\"}], \"scatter3d\": [{\"line\": {\"colorbar\": {\"outlinewidth\": 0, \"ticks\": \"\"}}, \"marker\": {\"colorbar\": {\"outlinewidth\": 0, \"ticks\": \"\"}}, \"type\": \"scatter3d\"}], \"scattercarpet\": [{\"marker\": {\"colorbar\": {\"outlinewidth\": 0, \"ticks\": \"\"}}, \"type\": \"scattercarpet\"}], \"scattergeo\": [{\"marker\": {\"colorbar\": {\"outlinewidth\": 0, \"ticks\": \"\"}}, \"type\": \"scattergeo\"}], \"scattergl\": [{\"marker\": {\"colorbar\": {\"outlinewidth\": 0, \"ticks\": \"\"}}, \"type\": \"scattergl\"}], \"scattermapbox\": [{\"marker\": {\"colorbar\": {\"outlinewidth\": 0, \"ticks\": \"\"}}, \"type\": \"scattermapbox\"}], \"scatterpolar\": [{\"marker\": {\"colorbar\": {\"outlinewidth\": 0, \"ticks\": \"\"}}, \"type\": \"scatterpolar\"}], \"scatterpolargl\": [{\"marker\": {\"colorbar\": {\"outlinewidth\": 0, \"ticks\": \"\"}}, \"type\": \"scatterpolargl\"}], \"scatterternary\": [{\"marker\": {\"colorbar\": {\"outlinewidth\": 0, \"ticks\": \"\"}}, \"type\": \"scatterternary\"}], \"surface\": [{\"colorbar\": {\"outlinewidth\": 0, \"ticks\": \"\"}, \"colorscale\": [[0.0, \"#0d0887\"], [0.1111111111111111, \"#46039f\"], [0.2222222222222222, \"#7201a8\"], [0.3333333333333333, \"#9c179e\"], [0.4444444444444444, \"#bd3786\"], [0.5555555555555556, \"#d8576b\"], [0.6666666666666666, \"#ed7953\"], [0.7777777777777778, \"#fb9f3a\"], [0.8888888888888888, \"#fdca26\"], [1.0, \"#f0f921\"]], \"type\": \"surface\"}], \"table\": [{\"cells\": {\"fill\": {\"color\": \"#EBF0F8\"}, \"line\": {\"color\": \"white\"}}, \"header\": {\"fill\": {\"color\": \"#C8D4E3\"}, \"line\": {\"color\": \"white\"}}, \"type\": \"table\"}]}, \"layout\": {\"annotationdefaults\": {\"arrowcolor\": \"#2a3f5f\", \"arrowhead\": 0, \"arrowwidth\": 1}, \"autotypenumbers\": \"strict\", \"coloraxis\": {\"colorbar\": {\"outlinewidth\": 0, \"ticks\": \"\"}}, \"colorscale\": {\"diverging\": [[0, \"#8e0152\"], [0.1, \"#c51b7d\"], [0.2, \"#de77ae\"], [0.3, \"#f1b6da\"], [0.4, \"#fde0ef\"], [0.5, \"#f7f7f7\"], [0.6, \"#e6f5d0\"], [0.7, \"#b8e186\"], [0.8, \"#7fbc41\"], [0.9, \"#4d9221\"], [1, \"#276419\"]], \"sequential\": [[0.0, \"#0d0887\"], [0.1111111111111111, \"#46039f\"], [0.2222222222222222, \"#7201a8\"], [0.3333333333333333, \"#9c179e\"], [0.4444444444444444, \"#bd3786\"], [0.5555555555555556, \"#d8576b\"], [0.6666666666666666, \"#ed7953\"], [0.7777777777777778, \"#fb9f3a\"], [0.8888888888888888, \"#fdca26\"], [1.0, \"#f0f921\"]], \"sequentialminus\": [[0.0, \"#0d0887\"], [0.1111111111111111, \"#46039f\"], [0.2222222222222222, \"#7201a8\"], [0.3333333333333333, \"#9c179e\"], [0.4444444444444444, \"#bd3786\"], [0.5555555555555556, \"#d8576b\"], [0.6666666666666666, \"#ed7953\"], [0.7777777777777778, \"#fb9f3a\"], [0.8888888888888888, \"#fdca26\"], [1.0, \"#f0f921\"]]}, \"colorway\": [\"#636efa\", \"#EF553B\", \"#00cc96\", \"#ab63fa\", \"#FFA15A\", \"#19d3f3\", \"#FF6692\", \"#B6E880\", \"#FF97FF\", \"#FECB52\"], \"font\": {\"color\": \"#2a3f5f\"}, \"geo\": {\"bgcolor\": \"white\", \"lakecolor\": \"white\", \"landcolor\": \"#E5ECF6\", \"showlakes\": true, \"showland\": true, \"subunitcolor\": \"white\"}, \"hoverlabel\": {\"align\": \"left\"}, \"hovermode\": \"closest\", \"mapbox\": {\"style\": \"light\"}, \"paper_bgcolor\": \"white\", \"plot_bgcolor\": \"#E5ECF6\", \"polar\": {\"angularaxis\": {\"gridcolor\": \"white\", \"linecolor\": \"white\", \"ticks\": \"\"}, \"bgcolor\": \"#E5ECF6\", \"radialaxis\": {\"gridcolor\": \"white\", \"linecolor\": \"white\", \"ticks\": \"\"}}, \"scene\": {\"xaxis\": {\"backgroundcolor\": \"#E5ECF6\", \"gridcolor\": \"white\", \"gridwidth\": 2, \"linecolor\": \"white\", \"showbackground\": true, \"ticks\": \"\", \"zerolinecolor\": \"white\"}, \"yaxis\": {\"backgroundcolor\": \"#E5ECF6\", \"gridcolor\": \"white\", \"gridwidth\": 2, \"linecolor\": \"white\", \"showbackground\": true, \"ticks\": \"\", \"zerolinecolor\": \"white\"}, \"zaxis\": {\"backgroundcolor\": \"#E5ECF6\", \"gridcolor\": \"white\", \"gridwidth\": 2, \"linecolor\": \"white\", \"showbackground\": true, \"ticks\": \"\", \"zerolinecolor\": \"white\"}}, \"shapedefaults\": {\"line\": {\"color\": \"#2a3f5f\"}}, \"ternary\": {\"aaxis\": {\"gridcolor\": \"white\", \"linecolor\": \"white\", \"ticks\": \"\"}, \"baxis\": {\"gridcolor\": \"white\", \"linecolor\": \"white\", \"ticks\": \"\"}, \"bgcolor\": \"#E5ECF6\", \"caxis\": {\"gridcolor\": \"white\", \"linecolor\": \"white\", \"ticks\": \"\"}}, \"title\": {\"x\": 0.05}, \"xaxis\": {\"automargin\": true, \"gridcolor\": \"white\", \"linecolor\": \"white\", \"ticks\": \"\", \"title\": {\"standoff\": 15}, \"zerolinecolor\": \"white\", \"zerolinewidth\": 2}, \"yaxis\": {\"automargin\": true, \"gridcolor\": \"white\", \"linecolor\": \"white\", \"ticks\": \"\", \"title\": {\"standoff\": 15}, \"zerolinecolor\": \"white\", \"zerolinewidth\": 2}}}, \"title\": {\"text\": \"Amount of launches by countries in 1957 year\"}},                        {\"responsive\": true}                    ).then(function(){\n",
              "                            \n",
              "var gd = document.getElementById('b3f4673a-f17e-48c1-a3c9-19555b39f38b');\n",
              "var x = new MutationObserver(function (mutations, observer) {{\n",
              "        var display = window.getComputedStyle(gd).display;\n",
              "        if (!display || display === 'none') {{\n",
              "            console.log([gd, 'removed!']);\n",
              "            Plotly.purge(gd);\n",
              "            observer.disconnect();\n",
              "        }}\n",
              "}});\n",
              "\n",
              "// Listen for the removal of the full notebook cells\n",
              "var notebookContainer = gd.closest('#notebook-container');\n",
              "if (notebookContainer) {{\n",
              "    x.observe(notebookContainer, {childList: true});\n",
              "}}\n",
              "\n",
              "// Listen for the clearing of the current output cell\n",
              "var outputEl = gd.closest('.output');\n",
              "if (outputEl) {{\n",
              "    x.observe(outputEl, {childList: true});\n",
              "}}\n",
              "\n",
              "                        })                };                            </script>        </div>\n",
              "</body>\n",
              "</html>"
            ]
          },
          "metadata": {
            "tags": []
          }
        }
      ]
    },
    {
      "cell_type": "markdown",
      "metadata": {
        "id": "S-0LUJqI0ybh"
      },
      "source": [
        "Here I presented the interactive chart that describes the number of country launches per particular year. All data is sorted, so it makes it easier for a user to understand the chart's main idea. I have chosen the bar plot as a chart because it shows the number of separate countries' launcher correctly.   \n",
        "As you can see on this chart, the leading world players in space are the USA, China, and Kazakhstan."
      ]
    },
    {
      "cell_type": "markdown",
      "metadata": {
        "id": "XurqjRfy8rkZ"
      },
      "source": [
        "### Amount of launches by companies *"
      ]
    },
    {
      "cell_type": "code",
      "metadata": {
        "id": "gt1rmKjVMWEr"
      },
      "source": [
        "company_df = df[[\"company\"]].reset_index(drop=True)\n",
        "company_df.loc[:, \"launches\"]  = 1\n",
        "company_df = company_df.groupby([\"company\"]).agg({\"launches\": \"sum\"})\n",
        "company_df = company_df.reset_index()\n",
        "company_df.loc[company_df['launches'] < 50, 'company'] = 'Other companies'\n",
        "company_df = company_df.groupby(\"company\").agg({\"launches\": \"sum\"}).reset_index()\n",
        "company_df[\"launches_str\"] = company_df[\"launches\"].astype(str) + \" launches\""
      ],
      "execution_count": 15,
      "outputs": []
    },
    {
      "cell_type": "code",
      "metadata": {
        "colab": {
          "base_uri": "https://localhost:8080/",
          "height": 542
        },
        "id": "kh5OZvuqL4NN",
        "outputId": "fe5b14d4-68e2-49bc-8f94-9dedb56b0bd2"
      },
      "source": [
        "fig = px.treemap(company_df, path=['company'], values='launches', title='Amount of launches by companies')\n",
        "fig.update_traces(textposition='top left', textinfo='label+value')\n",
        "fig.update_layout(\n",
        "    width=900\n",
        ")\n",
        "fig.layout.hovermode = False\n",
        "fig.show()"
      ],
      "execution_count": 16,
      "outputs": [
        {
          "output_type": "display_data",
          "data": {
            "text/html": [
              "<html>\n",
              "<head><meta charset=\"utf-8\" /></head>\n",
              "<body>\n",
              "    <div>            <script src=\"https://cdnjs.cloudflare.com/ajax/libs/mathjax/2.7.5/MathJax.js?config=TeX-AMS-MML_SVG\"></script><script type=\"text/javascript\">if (window.MathJax) {MathJax.Hub.Config({SVG: {font: \"STIX-Web\"}});}</script>                <script type=\"text/javascript\">window.PlotlyConfig = {MathJaxConfig: 'local'};</script>\n",
              "        <script src=\"https://cdn.plot.ly/plotly-latest.min.js\"></script>                <div id=\"e4c0fed1-f1f2-4c73-89fa-ba3bab151b50\" class=\"plotly-graph-div\" style=\"height:525px; width:900px;\"></div>            <script type=\"text/javascript\">                                    window.PLOTLYENV=window.PLOTLYENV || {};                                    if (document.getElementById(\"e4c0fed1-f1f2-4c73-89fa-ba3bab151b50\")) {                    Plotly.newPlot(                        \"e4c0fed1-f1f2-4c73-89fa-ba3bab151b50\",                        [{\"branchvalues\": \"total\", \"domain\": {\"x\": [0.0, 1.0], \"y\": [0.0, 1.0]}, \"hovertemplate\": \"labels=%{label}<br>launches=%{value}<br>parent=%{parent}<br>id=%{id}<extra></extra>\", \"ids\": [\"Arianespace\", \"Boeing\", \"CASC\", \"General Dynamics\", \"ISRO\", \"Lockheed\", \"MHI\", \"Martin Marietta\", \"NASA\", \"Northrop\", \"Other companies\", \"RVSN USSR\", \"Roscosmos\", \"SpaceX\", \"ULA\", \"US Air Force\", \"VKS RF\"], \"labels\": [\"Arianespace\", \"Boeing\", \"CASC\", \"General Dynamics\", \"ISRO\", \"Lockheed\", \"MHI\", \"Martin Marietta\", \"NASA\", \"Northrop\", \"Other companies\", \"RVSN USSR\", \"Roscosmos\", \"SpaceX\", \"ULA\", \"US Air Force\", \"VKS RF\"], \"name\": \"\", \"parents\": [\"\", \"\", \"\", \"\", \"\", \"\", \"\", \"\", \"\", \"\", \"\", \"\", \"\", \"\", \"\", \"\", \"\"], \"textinfo\": \"label+value\", \"textposition\": \"top left\", \"type\": \"treemap\", \"values\": [279, 136, 251, 251, 76, 79, 84, 114, 203, 83, 334, 1777, 55, 100, 140, 161, 201]}],                        {\"hovermode\": false, \"legend\": {\"tracegroupgap\": 0}, \"template\": {\"data\": {\"bar\": [{\"error_x\": {\"color\": \"#2a3f5f\"}, \"error_y\": {\"color\": \"#2a3f5f\"}, \"marker\": {\"line\": {\"color\": \"#E5ECF6\", \"width\": 0.5}}, \"type\": \"bar\"}], \"barpolar\": [{\"marker\": {\"line\": {\"color\": \"#E5ECF6\", \"width\": 0.5}}, \"type\": \"barpolar\"}], \"carpet\": [{\"aaxis\": {\"endlinecolor\": \"#2a3f5f\", \"gridcolor\": \"white\", \"linecolor\": \"white\", \"minorgridcolor\": \"white\", \"startlinecolor\": \"#2a3f5f\"}, \"baxis\": {\"endlinecolor\": \"#2a3f5f\", \"gridcolor\": \"white\", \"linecolor\": \"white\", \"minorgridcolor\": \"white\", \"startlinecolor\": \"#2a3f5f\"}, \"type\": \"carpet\"}], \"choropleth\": [{\"colorbar\": {\"outlinewidth\": 0, \"ticks\": \"\"}, \"type\": \"choropleth\"}], \"contour\": [{\"colorbar\": {\"outlinewidth\": 0, \"ticks\": \"\"}, \"colorscale\": [[0.0, \"#0d0887\"], [0.1111111111111111, \"#46039f\"], [0.2222222222222222, \"#7201a8\"], [0.3333333333333333, \"#9c179e\"], [0.4444444444444444, \"#bd3786\"], [0.5555555555555556, \"#d8576b\"], [0.6666666666666666, \"#ed7953\"], [0.7777777777777778, \"#fb9f3a\"], [0.8888888888888888, \"#fdca26\"], [1.0, \"#f0f921\"]], \"type\": \"contour\"}], \"contourcarpet\": [{\"colorbar\": {\"outlinewidth\": 0, \"ticks\": \"\"}, \"type\": \"contourcarpet\"}], \"heatmap\": [{\"colorbar\": {\"outlinewidth\": 0, \"ticks\": \"\"}, \"colorscale\": [[0.0, \"#0d0887\"], [0.1111111111111111, \"#46039f\"], [0.2222222222222222, \"#7201a8\"], [0.3333333333333333, \"#9c179e\"], [0.4444444444444444, \"#bd3786\"], [0.5555555555555556, \"#d8576b\"], [0.6666666666666666, \"#ed7953\"], [0.7777777777777778, \"#fb9f3a\"], [0.8888888888888888, \"#fdca26\"], [1.0, \"#f0f921\"]], \"type\": \"heatmap\"}], \"heatmapgl\": [{\"colorbar\": {\"outlinewidth\": 0, \"ticks\": \"\"}, \"colorscale\": [[0.0, \"#0d0887\"], [0.1111111111111111, \"#46039f\"], [0.2222222222222222, \"#7201a8\"], [0.3333333333333333, \"#9c179e\"], [0.4444444444444444, \"#bd3786\"], [0.5555555555555556, \"#d8576b\"], [0.6666666666666666, \"#ed7953\"], [0.7777777777777778, \"#fb9f3a\"], [0.8888888888888888, \"#fdca26\"], [1.0, \"#f0f921\"]], \"type\": \"heatmapgl\"}], \"histogram\": [{\"marker\": {\"colorbar\": {\"outlinewidth\": 0, \"ticks\": \"\"}}, \"type\": \"histogram\"}], \"histogram2d\": [{\"colorbar\": {\"outlinewidth\": 0, \"ticks\": \"\"}, \"colorscale\": [[0.0, \"#0d0887\"], [0.1111111111111111, \"#46039f\"], [0.2222222222222222, \"#7201a8\"], [0.3333333333333333, \"#9c179e\"], [0.4444444444444444, \"#bd3786\"], [0.5555555555555556, \"#d8576b\"], [0.6666666666666666, \"#ed7953\"], [0.7777777777777778, \"#fb9f3a\"], [0.8888888888888888, \"#fdca26\"], [1.0, \"#f0f921\"]], \"type\": \"histogram2d\"}], \"histogram2dcontour\": [{\"colorbar\": {\"outlinewidth\": 0, \"ticks\": \"\"}, \"colorscale\": [[0.0, \"#0d0887\"], [0.1111111111111111, \"#46039f\"], [0.2222222222222222, \"#7201a8\"], [0.3333333333333333, \"#9c179e\"], [0.4444444444444444, \"#bd3786\"], [0.5555555555555556, \"#d8576b\"], [0.6666666666666666, \"#ed7953\"], [0.7777777777777778, \"#fb9f3a\"], [0.8888888888888888, \"#fdca26\"], [1.0, \"#f0f921\"]], \"type\": \"histogram2dcontour\"}], \"mesh3d\": [{\"colorbar\": {\"outlinewidth\": 0, \"ticks\": \"\"}, \"type\": \"mesh3d\"}], \"parcoords\": [{\"line\": {\"colorbar\": {\"outlinewidth\": 0, \"ticks\": \"\"}}, \"type\": \"parcoords\"}], \"pie\": [{\"automargin\": true, \"type\": \"pie\"}], \"scatter\": [{\"marker\": {\"colorbar\": {\"outlinewidth\": 0, \"ticks\": \"\"}}, \"type\": \"scatter\"}], \"scatter3d\": [{\"line\": {\"colorbar\": {\"outlinewidth\": 0, \"ticks\": \"\"}}, \"marker\": {\"colorbar\": {\"outlinewidth\": 0, \"ticks\": \"\"}}, \"type\": \"scatter3d\"}], \"scattercarpet\": [{\"marker\": {\"colorbar\": {\"outlinewidth\": 0, \"ticks\": \"\"}}, \"type\": \"scattercarpet\"}], \"scattergeo\": [{\"marker\": {\"colorbar\": {\"outlinewidth\": 0, \"ticks\": \"\"}}, \"type\": \"scattergeo\"}], \"scattergl\": [{\"marker\": {\"colorbar\": {\"outlinewidth\": 0, \"ticks\": \"\"}}, \"type\": \"scattergl\"}], \"scattermapbox\": [{\"marker\": {\"colorbar\": {\"outlinewidth\": 0, \"ticks\": \"\"}}, \"type\": \"scattermapbox\"}], \"scatterpolar\": [{\"marker\": {\"colorbar\": {\"outlinewidth\": 0, \"ticks\": \"\"}}, \"type\": \"scatterpolar\"}], \"scatterpolargl\": [{\"marker\": {\"colorbar\": {\"outlinewidth\": 0, \"ticks\": \"\"}}, \"type\": \"scatterpolargl\"}], \"scatterternary\": [{\"marker\": {\"colorbar\": {\"outlinewidth\": 0, \"ticks\": \"\"}}, \"type\": \"scatterternary\"}], \"surface\": [{\"colorbar\": {\"outlinewidth\": 0, \"ticks\": \"\"}, \"colorscale\": [[0.0, \"#0d0887\"], [0.1111111111111111, \"#46039f\"], [0.2222222222222222, \"#7201a8\"], [0.3333333333333333, \"#9c179e\"], [0.4444444444444444, \"#bd3786\"], [0.5555555555555556, \"#d8576b\"], [0.6666666666666666, \"#ed7953\"], [0.7777777777777778, \"#fb9f3a\"], [0.8888888888888888, \"#fdca26\"], [1.0, \"#f0f921\"]], \"type\": \"surface\"}], \"table\": [{\"cells\": {\"fill\": {\"color\": \"#EBF0F8\"}, \"line\": {\"color\": \"white\"}}, \"header\": {\"fill\": {\"color\": \"#C8D4E3\"}, \"line\": {\"color\": \"white\"}}, \"type\": \"table\"}]}, \"layout\": {\"annotationdefaults\": {\"arrowcolor\": \"#2a3f5f\", \"arrowhead\": 0, \"arrowwidth\": 1}, \"autotypenumbers\": \"strict\", \"coloraxis\": {\"colorbar\": {\"outlinewidth\": 0, \"ticks\": \"\"}}, \"colorscale\": {\"diverging\": [[0, \"#8e0152\"], [0.1, \"#c51b7d\"], [0.2, \"#de77ae\"], [0.3, \"#f1b6da\"], [0.4, \"#fde0ef\"], [0.5, \"#f7f7f7\"], [0.6, \"#e6f5d0\"], [0.7, \"#b8e186\"], [0.8, \"#7fbc41\"], [0.9, \"#4d9221\"], [1, \"#276419\"]], \"sequential\": [[0.0, \"#0d0887\"], [0.1111111111111111, \"#46039f\"], [0.2222222222222222, \"#7201a8\"], [0.3333333333333333, \"#9c179e\"], [0.4444444444444444, \"#bd3786\"], [0.5555555555555556, \"#d8576b\"], [0.6666666666666666, \"#ed7953\"], [0.7777777777777778, \"#fb9f3a\"], [0.8888888888888888, \"#fdca26\"], [1.0, \"#f0f921\"]], \"sequentialminus\": [[0.0, \"#0d0887\"], [0.1111111111111111, \"#46039f\"], [0.2222222222222222, \"#7201a8\"], [0.3333333333333333, \"#9c179e\"], [0.4444444444444444, \"#bd3786\"], [0.5555555555555556, \"#d8576b\"], [0.6666666666666666, \"#ed7953\"], [0.7777777777777778, \"#fb9f3a\"], [0.8888888888888888, \"#fdca26\"], [1.0, \"#f0f921\"]]}, \"colorway\": [\"#636efa\", \"#EF553B\", \"#00cc96\", \"#ab63fa\", \"#FFA15A\", \"#19d3f3\", \"#FF6692\", \"#B6E880\", \"#FF97FF\", \"#FECB52\"], \"font\": {\"color\": \"#2a3f5f\"}, \"geo\": {\"bgcolor\": \"white\", \"lakecolor\": \"white\", \"landcolor\": \"#E5ECF6\", \"showlakes\": true, \"showland\": true, \"subunitcolor\": \"white\"}, \"hoverlabel\": {\"align\": \"left\"}, \"hovermode\": \"closest\", \"mapbox\": {\"style\": \"light\"}, \"paper_bgcolor\": \"white\", \"plot_bgcolor\": \"#E5ECF6\", \"polar\": {\"angularaxis\": {\"gridcolor\": \"white\", \"linecolor\": \"white\", \"ticks\": \"\"}, \"bgcolor\": \"#E5ECF6\", \"radialaxis\": {\"gridcolor\": \"white\", \"linecolor\": \"white\", \"ticks\": \"\"}}, \"scene\": {\"xaxis\": {\"backgroundcolor\": \"#E5ECF6\", \"gridcolor\": \"white\", \"gridwidth\": 2, \"linecolor\": \"white\", \"showbackground\": true, \"ticks\": \"\", \"zerolinecolor\": \"white\"}, \"yaxis\": {\"backgroundcolor\": \"#E5ECF6\", \"gridcolor\": \"white\", \"gridwidth\": 2, \"linecolor\": \"white\", \"showbackground\": true, \"ticks\": \"\", \"zerolinecolor\": \"white\"}, \"zaxis\": {\"backgroundcolor\": \"#E5ECF6\", \"gridcolor\": \"white\", \"gridwidth\": 2, \"linecolor\": \"white\", \"showbackground\": true, \"ticks\": \"\", \"zerolinecolor\": \"white\"}}, \"shapedefaults\": {\"line\": {\"color\": \"#2a3f5f\"}}, \"ternary\": {\"aaxis\": {\"gridcolor\": \"white\", \"linecolor\": \"white\", \"ticks\": \"\"}, \"baxis\": {\"gridcolor\": \"white\", \"linecolor\": \"white\", \"ticks\": \"\"}, \"bgcolor\": \"#E5ECF6\", \"caxis\": {\"gridcolor\": \"white\", \"linecolor\": \"white\", \"ticks\": \"\"}}, \"title\": {\"x\": 0.05}, \"xaxis\": {\"automargin\": true, \"gridcolor\": \"white\", \"linecolor\": \"white\", \"ticks\": \"\", \"title\": {\"standoff\": 15}, \"zerolinecolor\": \"white\", \"zerolinewidth\": 2}, \"yaxis\": {\"automargin\": true, \"gridcolor\": \"white\", \"linecolor\": \"white\", \"ticks\": \"\", \"title\": {\"standoff\": 15}, \"zerolinecolor\": \"white\", \"zerolinewidth\": 2}}}, \"title\": {\"text\": \"Amount of launches by companies\"}, \"width\": 900},                        {\"responsive\": true}                    ).then(function(){\n",
              "                            \n",
              "var gd = document.getElementById('e4c0fed1-f1f2-4c73-89fa-ba3bab151b50');\n",
              "var x = new MutationObserver(function (mutations, observer) {{\n",
              "        var display = window.getComputedStyle(gd).display;\n",
              "        if (!display || display === 'none') {{\n",
              "            console.log([gd, 'removed!']);\n",
              "            Plotly.purge(gd);\n",
              "            observer.disconnect();\n",
              "        }}\n",
              "}});\n",
              "\n",
              "// Listen for the removal of the full notebook cells\n",
              "var notebookContainer = gd.closest('#notebook-container');\n",
              "if (notebookContainer) {{\n",
              "    x.observe(notebookContainer, {childList: true});\n",
              "}}\n",
              "\n",
              "// Listen for the clearing of the current output cell\n",
              "var outputEl = gd.closest('.output');\n",
              "if (outputEl) {{\n",
              "    x.observe(outputEl, {childList: true});\n",
              "}}\n",
              "\n",
              "                        })                };                            </script>        </div>\n",
              "</body>\n",
              "</html>"
            ]
          },
          "metadata": {
            "tags": []
          }
        }
      ]
    },
    {
      "cell_type": "markdown",
      "metadata": {
        "id": "9jzCmVzZ17aD"
      },
      "source": [
        "This chart shows the number of launches of individual companies over time. I have chosen the treemap chart because it shows the launch area, and users can define the company with the most significant number of flights intuitively. I did not use a bar plot because \"RVSN USSR\" has a large number of launches, so it breaks the chart. In this modification, the values are more moderate.   \n",
        "As you can see on this chart, the top 3 companies with the most significant number of launches are:\n",
        "1. RVSN USSR\n",
        "2. Arianespace\n",
        "3. CASC   \n",
        "\n",
        "Many companies have a deficient number of flights, so I merged them into one \"Others\" block."
      ]
    },
    {
      "cell_type": "code",
      "metadata": {
        "id": "zx-oSte0321i"
      },
      "source": [
        ""
      ],
      "execution_count": 16,
      "outputs": []
    }
  ]
}